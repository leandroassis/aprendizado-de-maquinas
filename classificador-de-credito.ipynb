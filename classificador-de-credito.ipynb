{
 "cells": [
  {
   "cell_type": "code",
   "execution_count": 31,
   "id": "4b65313d",
   "metadata": {},
   "outputs": [],
   "source": [
    "# Importação das bibliotecas usadas no desenvolvimento do projeto\n",
    "import pandas as pd\n",
    "from sklearn.preprocessing import StandardScaler\n",
    "from sklearn.neighbors import KNeighborsClassifier\n",
    "from sklearn.linear_model import LogisticRegression\n",
    "from sklearn.svm import SVC\n",
    "from scipy.stats import pearsonr\n",
    "import matplotlib.pyplot as plt\n",
    "import numpy as np\n",
    "from sklearn.model_selection import cross_val_score\n",
    "from sklearn.feature_selection import SequentialFeatureSelector\n",
    "from statistics import mean, median"
   ]
  },
  {
   "cell_type": "code",
   "execution_count": 32,
   "id": "8418260b",
   "metadata": {},
   "outputs": [],
   "source": [
    "# Importação dos conjutos de amostras\n",
    "dados_treino = pd.read_csv(\"conjunto_de_treinamento.csv\", delimiter=\",\", decimal=\".\")\n",
    "dados_teste = pd.read_csv(\"conjunto_de_teste.csv\", delimiter=\",\", decimal=\".\")"
   ]
  },
  {
   "cell_type": "code",
   "execution_count": 33,
   "id": "447ee0e9",
   "metadata": {},
   "outputs": [
    {
     "data": {
      "text/html": [
       "<div>\n",
       "<style scoped>\n",
       "    .dataframe tbody tr th:only-of-type {\n",
       "        vertical-align: middle;\n",
       "    }\n",
       "\n",
       "    .dataframe tbody tr th {\n",
       "        vertical-align: top;\n",
       "    }\n",
       "\n",
       "    .dataframe thead th {\n",
       "        text-align: right;\n",
       "    }\n",
       "</style>\n",
       "<table border=\"1\" class=\"dataframe\">\n",
       "  <thead>\n",
       "    <tr style=\"text-align: right;\">\n",
       "      <th></th>\n",
       "      <th>id_solicitante</th>\n",
       "      <th>produto_solicitado</th>\n",
       "      <th>dia_vencimento</th>\n",
       "      <th>forma_envio_solicitacao</th>\n",
       "      <th>tipo_endereco</th>\n",
       "      <th>sexo</th>\n",
       "      <th>idade</th>\n",
       "      <th>estado_civil</th>\n",
       "      <th>qtde_dependentes</th>\n",
       "      <th>grau_instrucao</th>\n",
       "      <th>...</th>\n",
       "      <th>estado_onde_trabalha</th>\n",
       "      <th>possui_telefone_trabalho</th>\n",
       "      <th>codigo_area_telefone_trabalho</th>\n",
       "      <th>meses_no_trabalho</th>\n",
       "      <th>profissao</th>\n",
       "      <th>ocupacao</th>\n",
       "      <th>profissao_companheiro</th>\n",
       "      <th>grau_instrucao_companheiro</th>\n",
       "      <th>local_onde_reside</th>\n",
       "      <th>local_onde_trabalha</th>\n",
       "    </tr>\n",
       "  </thead>\n",
       "  <tbody>\n",
       "    <tr>\n",
       "      <th>0</th>\n",
       "      <td>20001</td>\n",
       "      <td>1</td>\n",
       "      <td>25</td>\n",
       "      <td>presencial</td>\n",
       "      <td>1</td>\n",
       "      <td>M</td>\n",
       "      <td>37</td>\n",
       "      <td>2</td>\n",
       "      <td>0</td>\n",
       "      <td>0</td>\n",
       "      <td>...</td>\n",
       "      <td></td>\n",
       "      <td>N</td>\n",
       "      <td></td>\n",
       "      <td>0</td>\n",
       "      <td>0.0</td>\n",
       "      <td>0.0</td>\n",
       "      <td>0.0</td>\n",
       "      <td>0.0</td>\n",
       "      <td>384.0</td>\n",
       "      <td>384.0</td>\n",
       "    </tr>\n",
       "    <tr>\n",
       "      <th>1</th>\n",
       "      <td>20002</td>\n",
       "      <td>1</td>\n",
       "      <td>10</td>\n",
       "      <td>internet</td>\n",
       "      <td>1</td>\n",
       "      <td>F</td>\n",
       "      <td>31</td>\n",
       "      <td>2</td>\n",
       "      <td>0</td>\n",
       "      <td>0</td>\n",
       "      <td>...</td>\n",
       "      <td>RJ</td>\n",
       "      <td>N</td>\n",
       "      <td></td>\n",
       "      <td>0</td>\n",
       "      <td>9.0</td>\n",
       "      <td>5.0</td>\n",
       "      <td>NaN</td>\n",
       "      <td>NaN</td>\n",
       "      <td>275.0</td>\n",
       "      <td>275.0</td>\n",
       "    </tr>\n",
       "    <tr>\n",
       "      <th>2</th>\n",
       "      <td>20003</td>\n",
       "      <td>1</td>\n",
       "      <td>10</td>\n",
       "      <td>internet</td>\n",
       "      <td>1</td>\n",
       "      <td>F</td>\n",
       "      <td>18</td>\n",
       "      <td>2</td>\n",
       "      <td>0</td>\n",
       "      <td>0</td>\n",
       "      <td>...</td>\n",
       "      <td>RS</td>\n",
       "      <td>N</td>\n",
       "      <td></td>\n",
       "      <td>0</td>\n",
       "      <td>9.0</td>\n",
       "      <td>2.0</td>\n",
       "      <td>NaN</td>\n",
       "      <td>NaN</td>\n",
       "      <td>948.0</td>\n",
       "      <td>948.0</td>\n",
       "    </tr>\n",
       "    <tr>\n",
       "      <th>3</th>\n",
       "      <td>20004</td>\n",
       "      <td>1</td>\n",
       "      <td>10</td>\n",
       "      <td>presencial</td>\n",
       "      <td>1</td>\n",
       "      <td>F</td>\n",
       "      <td>55</td>\n",
       "      <td>2</td>\n",
       "      <td>0</td>\n",
       "      <td>0</td>\n",
       "      <td>...</td>\n",
       "      <td></td>\n",
       "      <td>N</td>\n",
       "      <td></td>\n",
       "      <td>0</td>\n",
       "      <td>9.0</td>\n",
       "      <td>1.0</td>\n",
       "      <td>0.0</td>\n",
       "      <td>0.0</td>\n",
       "      <td>581.0</td>\n",
       "      <td>581.0</td>\n",
       "    </tr>\n",
       "    <tr>\n",
       "      <th>4</th>\n",
       "      <td>20005</td>\n",
       "      <td>1</td>\n",
       "      <td>10</td>\n",
       "      <td>presencial</td>\n",
       "      <td>1</td>\n",
       "      <td>F</td>\n",
       "      <td>55</td>\n",
       "      <td>1</td>\n",
       "      <td>0</td>\n",
       "      <td>0</td>\n",
       "      <td>...</td>\n",
       "      <td></td>\n",
       "      <td>N</td>\n",
       "      <td></td>\n",
       "      <td>0</td>\n",
       "      <td>0.0</td>\n",
       "      <td>1.0</td>\n",
       "      <td>0.0</td>\n",
       "      <td>0.0</td>\n",
       "      <td>573.0</td>\n",
       "      <td>573.0</td>\n",
       "    </tr>\n",
       "  </tbody>\n",
       "</table>\n",
       "<p>5 rows × 41 columns</p>\n",
       "</div>"
      ],
      "text/plain": [
       "   id_solicitante  produto_solicitado  dia_vencimento forma_envio_solicitacao  \\\n",
       "0           20001                   1              25              presencial   \n",
       "1           20002                   1              10                internet   \n",
       "2           20003                   1              10                internet   \n",
       "3           20004                   1              10              presencial   \n",
       "4           20005                   1              10              presencial   \n",
       "\n",
       "   tipo_endereco sexo  idade  estado_civil  qtde_dependentes  grau_instrucao  \\\n",
       "0              1    M     37             2                 0               0   \n",
       "1              1    F     31             2                 0               0   \n",
       "2              1    F     18             2                 0               0   \n",
       "3              1    F     55             2                 0               0   \n",
       "4              1    F     55             1                 0               0   \n",
       "\n",
       "   ...  estado_onde_trabalha possui_telefone_trabalho  \\\n",
       "0  ...                                              N   \n",
       "1  ...                    RJ                        N   \n",
       "2  ...                    RS                        N   \n",
       "3  ...                                              N   \n",
       "4  ...                                              N   \n",
       "\n",
       "  codigo_area_telefone_trabalho meses_no_trabalho profissao  ocupacao  \\\n",
       "0                                               0       0.0       0.0   \n",
       "1                                               0       9.0       5.0   \n",
       "2                                               0       9.0       2.0   \n",
       "3                                               0       9.0       1.0   \n",
       "4                                               0       0.0       1.0   \n",
       "\n",
       "   profissao_companheiro grau_instrucao_companheiro  local_onde_reside  \\\n",
       "0                    0.0                        0.0              384.0   \n",
       "1                    NaN                        NaN              275.0   \n",
       "2                    NaN                        NaN              948.0   \n",
       "3                    0.0                        0.0              581.0   \n",
       "4                    0.0                        0.0              573.0   \n",
       "\n",
       "   local_onde_trabalha  \n",
       "0                384.0  \n",
       "1                275.0  \n",
       "2                948.0  \n",
       "3                581.0  \n",
       "4                573.0  \n",
       "\n",
       "[5 rows x 41 columns]"
      ]
     },
     "execution_count": 33,
     "metadata": {},
     "output_type": "execute_result"
    }
   ],
   "source": [
    "dados_teste.head()"
   ]
  },
  {
   "cell_type": "code",
   "execution_count": 34,
   "id": "cf157f1d",
   "metadata": {},
   "outputs": [
    {
     "data": {
      "text/html": [
       "<div>\n",
       "<style scoped>\n",
       "    .dataframe tbody tr th:only-of-type {\n",
       "        vertical-align: middle;\n",
       "    }\n",
       "\n",
       "    .dataframe tbody tr th {\n",
       "        vertical-align: top;\n",
       "    }\n",
       "\n",
       "    .dataframe thead th {\n",
       "        text-align: right;\n",
       "    }\n",
       "</style>\n",
       "<table border=\"1\" class=\"dataframe\">\n",
       "  <thead>\n",
       "    <tr style=\"text-align: right;\">\n",
       "      <th></th>\n",
       "      <th>id_solicitante</th>\n",
       "      <th>produto_solicitado</th>\n",
       "      <th>dia_vencimento</th>\n",
       "      <th>forma_envio_solicitacao</th>\n",
       "      <th>tipo_endereco</th>\n",
       "      <th>sexo</th>\n",
       "      <th>idade</th>\n",
       "      <th>estado_civil</th>\n",
       "      <th>qtde_dependentes</th>\n",
       "      <th>grau_instrucao</th>\n",
       "      <th>...</th>\n",
       "      <th>possui_telefone_trabalho</th>\n",
       "      <th>codigo_area_telefone_trabalho</th>\n",
       "      <th>meses_no_trabalho</th>\n",
       "      <th>profissao</th>\n",
       "      <th>ocupacao</th>\n",
       "      <th>profissao_companheiro</th>\n",
       "      <th>grau_instrucao_companheiro</th>\n",
       "      <th>local_onde_reside</th>\n",
       "      <th>local_onde_trabalha</th>\n",
       "      <th>inadimplente</th>\n",
       "    </tr>\n",
       "  </thead>\n",
       "  <tbody>\n",
       "    <tr>\n",
       "      <th>0</th>\n",
       "      <td>1</td>\n",
       "      <td>1</td>\n",
       "      <td>10</td>\n",
       "      <td>presencial</td>\n",
       "      <td>1</td>\n",
       "      <td>M</td>\n",
       "      <td>85</td>\n",
       "      <td>2</td>\n",
       "      <td>0</td>\n",
       "      <td>0</td>\n",
       "      <td>...</td>\n",
       "      <td>N</td>\n",
       "      <td></td>\n",
       "      <td>0</td>\n",
       "      <td>9.0</td>\n",
       "      <td>1.0</td>\n",
       "      <td>0.0</td>\n",
       "      <td>0.0</td>\n",
       "      <td>600.0</td>\n",
       "      <td>600.0</td>\n",
       "      <td>0</td>\n",
       "    </tr>\n",
       "    <tr>\n",
       "      <th>1</th>\n",
       "      <td>2</td>\n",
       "      <td>1</td>\n",
       "      <td>25</td>\n",
       "      <td>internet</td>\n",
       "      <td>1</td>\n",
       "      <td>F</td>\n",
       "      <td>38</td>\n",
       "      <td>1</td>\n",
       "      <td>0</td>\n",
       "      <td>0</td>\n",
       "      <td>...</td>\n",
       "      <td>N</td>\n",
       "      <td></td>\n",
       "      <td>0</td>\n",
       "      <td>2.0</td>\n",
       "      <td>5.0</td>\n",
       "      <td>NaN</td>\n",
       "      <td>NaN</td>\n",
       "      <td>492.0</td>\n",
       "      <td>492.0</td>\n",
       "      <td>0</td>\n",
       "    </tr>\n",
       "    <tr>\n",
       "      <th>2</th>\n",
       "      <td>3</td>\n",
       "      <td>1</td>\n",
       "      <td>20</td>\n",
       "      <td>internet</td>\n",
       "      <td>1</td>\n",
       "      <td>F</td>\n",
       "      <td>37</td>\n",
       "      <td>2</td>\n",
       "      <td>0</td>\n",
       "      <td>0</td>\n",
       "      <td>...</td>\n",
       "      <td>N</td>\n",
       "      <td></td>\n",
       "      <td>0</td>\n",
       "      <td>NaN</td>\n",
       "      <td>NaN</td>\n",
       "      <td>NaN</td>\n",
       "      <td>NaN</td>\n",
       "      <td>450.0</td>\n",
       "      <td>450.0</td>\n",
       "      <td>1</td>\n",
       "    </tr>\n",
       "    <tr>\n",
       "      <th>3</th>\n",
       "      <td>4</td>\n",
       "      <td>1</td>\n",
       "      <td>20</td>\n",
       "      <td>internet</td>\n",
       "      <td>1</td>\n",
       "      <td>M</td>\n",
       "      <td>37</td>\n",
       "      <td>1</td>\n",
       "      <td>1</td>\n",
       "      <td>0</td>\n",
       "      <td>...</td>\n",
       "      <td>Y</td>\n",
       "      <td>54</td>\n",
       "      <td>0</td>\n",
       "      <td>9.0</td>\n",
       "      <td>2.0</td>\n",
       "      <td>NaN</td>\n",
       "      <td>NaN</td>\n",
       "      <td>932.0</td>\n",
       "      <td>932.0</td>\n",
       "      <td>1</td>\n",
       "    </tr>\n",
       "    <tr>\n",
       "      <th>4</th>\n",
       "      <td>5</td>\n",
       "      <td>7</td>\n",
       "      <td>1</td>\n",
       "      <td>internet</td>\n",
       "      <td>1</td>\n",
       "      <td>F</td>\n",
       "      <td>51</td>\n",
       "      <td>1</td>\n",
       "      <td>3</td>\n",
       "      <td>0</td>\n",
       "      <td>...</td>\n",
       "      <td>N</td>\n",
       "      <td></td>\n",
       "      <td>0</td>\n",
       "      <td>9.0</td>\n",
       "      <td>5.0</td>\n",
       "      <td>NaN</td>\n",
       "      <td>NaN</td>\n",
       "      <td>440.0</td>\n",
       "      <td>440.0</td>\n",
       "      <td>1</td>\n",
       "    </tr>\n",
       "  </tbody>\n",
       "</table>\n",
       "<p>5 rows × 42 columns</p>\n",
       "</div>"
      ],
      "text/plain": [
       "   id_solicitante  produto_solicitado  dia_vencimento forma_envio_solicitacao  \\\n",
       "0               1                   1              10              presencial   \n",
       "1               2                   1              25                internet   \n",
       "2               3                   1              20                internet   \n",
       "3               4                   1              20                internet   \n",
       "4               5                   7               1                internet   \n",
       "\n",
       "   tipo_endereco sexo  idade  estado_civil  qtde_dependentes  grau_instrucao  \\\n",
       "0              1    M     85             2                 0               0   \n",
       "1              1    F     38             1                 0               0   \n",
       "2              1    F     37             2                 0               0   \n",
       "3              1    M     37             1                 1               0   \n",
       "4              1    F     51             1                 3               0   \n",
       "\n",
       "   ...  possui_telefone_trabalho codigo_area_telefone_trabalho  \\\n",
       "0  ...                         N                                 \n",
       "1  ...                         N                                 \n",
       "2  ...                         N                                 \n",
       "3  ...                         Y                            54   \n",
       "4  ...                         N                                 \n",
       "\n",
       "  meses_no_trabalho profissao ocupacao  profissao_companheiro  \\\n",
       "0                 0       9.0      1.0                    0.0   \n",
       "1                 0       2.0      5.0                    NaN   \n",
       "2                 0       NaN      NaN                    NaN   \n",
       "3                 0       9.0      2.0                    NaN   \n",
       "4                 0       9.0      5.0                    NaN   \n",
       "\n",
       "   grau_instrucao_companheiro local_onde_reside  local_onde_trabalha  \\\n",
       "0                         0.0             600.0                600.0   \n",
       "1                         NaN             492.0                492.0   \n",
       "2                         NaN             450.0                450.0   \n",
       "3                         NaN             932.0                932.0   \n",
       "4                         NaN             440.0                440.0   \n",
       "\n",
       "   inadimplente  \n",
       "0             0  \n",
       "1             0  \n",
       "2             1  \n",
       "3             1  \n",
       "4             1  \n",
       "\n",
       "[5 rows x 42 columns]"
      ]
     },
     "execution_count": 34,
     "metadata": {},
     "output_type": "execute_result"
    }
   ],
   "source": [
    "dados_treino.head()"
   ]
  },
  {
   "cell_type": "markdown",
   "id": "503a6aeb",
   "metadata": {},
   "source": [
    "# Verificação de Outliers"
   ]
  },
  {
   "cell_type": "markdown",
   "id": "37dc60b7",
   "metadata": {},
   "source": [
    "Após gerar os gráficos de todas as colunas do datasets, percebeu-se que existe um outlier que possui 53 dependentes cadastrados. As demais variáveis não apresentam outliers."
   ]
  },
  {
   "cell_type": "code",
   "execution_count": 35,
   "id": "4db03a22",
   "metadata": {
    "scrolled": true
   },
   "outputs": [],
   "source": [
    "#for coluna in dados_treino.columns:\n",
    "#     dados_treino.plot.scatter(x=coluna, y='inadimplente')\n",
    "\n",
    "dados_treino[dados_treino['qtde_dependentes'] > 15] #printa o outlier\n",
    "dados_treino = dados_treino.drop(8489)"
   ]
  },
  {
   "cell_type": "markdown",
   "id": "c39b4ac9",
   "metadata": {},
   "source": [
    "# Tratamento de dados"
   ]
  },
  {
   "cell_type": "markdown",
   "id": "d6afc25f",
   "metadata": {},
   "source": [
    "## Lidando com os NaN"
   ]
  },
  {
   "cell_type": "markdown",
   "id": "7e685c56",
   "metadata": {},
   "source": [
    "Como é possível observar nas 5 primeiras linhas dos dados de treino e teste, existem dados faltantes \"NaN\". Dado isto, quantifica-se a perda de dados ao simplesmente eliminar as linhas com NaN."
   ]
  },
  {
   "cell_type": "code",
   "execution_count": 36,
   "id": "b407bfb3",
   "metadata": {},
   "outputs": [
    {
     "name": "stdout",
     "output_type": "stream",
     "text": [
      "Perda de 65.12% dos dados de treino ao retirar linhas com informações faltantes.\n"
     ]
    }
   ],
   "source": [
    "linha_treino_com_na = dados_treino.shape[0]\n",
    "linha_treino_sem_na = dados_treino.dropna().shape[0]\n",
    "\n",
    "print(\"Perda de %0.2f%% dos dados de treino ao retirar linhas com informações faltantes.\" %(100 - linha_treino_sem_na*100/linha_treino_com_na))"
   ]
  },
  {
   "cell_type": "markdown",
   "id": "47a6d345",
   "metadata": {},
   "source": [
    "A perda de 65.12% do dataset é algo péssimo para o modelo pois perde grande parte da representação do universo. Para prosseguir sem perder essas amostras, optou-se por substituir os NaN de forma a manter a característica das distribuições.\n",
    "\n",
    "Para fazer essas substituições, primeiro faz-se o tratamento dos dados nos datasets de treino e teste. A seguir seguem as modificaçãoes feitas sobre os dados."
   ]
  },
  {
   "cell_type": "markdown",
   "id": "f13cae96",
   "metadata": {},
   "source": [
    "## Conversão dos dados e remoção de colunas"
   ]
  },
  {
   "cell_type": "markdown",
   "id": "8fc24e46",
   "metadata": {},
   "source": [
    "Primeiramente faz-se a análise do arquivo \"dicionario_de_dados.xlsx\" e segue-se as recomendações para remover as colunas com erro de preenchimento e colunas que visivelmente agregam pouco valor (por ter alta correlação com outra coluna. Ex. colunas de estados onde trabalha, habita e nasceu)."
   ]
  },
  {
   "cell_type": "code",
   "execution_count": 37,
   "id": "818b9347",
   "metadata": {},
   "outputs": [],
   "source": [
    "# forma_envio_solicitacao -> Abrir em 3 colunas (internet, correio e presencial)\n",
    "# sexo -> Abrir em 3 colunas (masculino, feminino, nao informado). Se vazio colocar N\n",
    "# grau_instrucao -> Remover\n",
    "# estado_onde_nasceu -> Remover, possui alta correlação  com \"estado_onde_reside\"\n",
    "# estado_onde_reside -> Transformar em regiões do país\n",
    "# possui_telefone_residencial -> Transformar em 1 - Sim 0 - Nao\n",
    "# possui_telefone_celular ->  Remover\n",
    "# qtde_contas_bancarias_especiais -> Remover\n",
    "# vinculo_formal_com_empresa -> Transformar em 1 - Sim 0 - Nao\n",
    "# estado_onde_trabalha -> Inútil, apenas 0.2% está preenchido\n",
    "# possui_telefone_trabalho -> Transformar em 1 - Sim 0 - Nao\n",
    "# meses_no_trabalho -> Remover\n",
    "\n",
    "# deleta as colunas desnecessárias/com dados corrompidos\n",
    "# codigo_area_telefone_residencial, codigo_area_telefone_trabalho, estado_onde_trabalha, estado_onde_nasceu\n",
    "dados_treino = dados_treino.drop(columns=['id_solicitante', 'grau_instrucao', 'possui_telefone_celular',\\\n",
    "                                          'qtde_contas_bancarias_especiais', 'meses_no_trabalho'])\n",
    "dados_teste = dados_teste.drop(columns=['grau_instrucao', 'possui_telefone_celular',\\\n",
    "                                          'qtde_contas_bancarias_especiais', 'meses_no_trabalho'])"
   ]
  },
  {
   "cell_type": "code",
   "execution_count": 38,
   "id": "4cb379ee",
   "metadata": {},
   "outputs": [],
   "source": [
    "# splita as colunas na lista \"valores_a_trocar\" em uma coluna para cada opção dentre as possíveis\n",
    "# caso o valor de uma linha da coluna sexo seja NaN, troca por N - Não informado\n",
    "valores = {'sexo':'N'}\n",
    "\n",
    "valores_a_trocar = ['possui_telefone_residencial', 'vinculo_formal_com_empresa', 'possui_telefone_trabalho', 'forma_envio_solicitacao', 'sexo']\n",
    "\n",
    "dados_treino = dados_treino.fillna(value=valores)\n",
    "dados_teste = dados_teste.fillna(value=valores)\n",
    "\n",
    "dados_treino = pd.get_dummies(dados_treino, columns=valores_a_trocar)\n",
    "dados_teste = pd.get_dummies(dados_teste, columns=valores_a_trocar)\n",
    "\n",
    "# drop necessário para tirar uma coluna de bug\n",
    "dados_treino = dados_treino.drop(columns=['sexo_ '])\n",
    "dados_teste = dados_teste.drop(columns=['sexo_ '])"
   ]
  },
  {
   "cell_type": "code",
   "execution_count": 39,
   "id": "caadf4d5",
   "metadata": {},
   "outputs": [],
   "source": [
    "# Troca os estados das colunas na lista abaixo pela região do estado e faz o get_dummie da coluna\n",
    "valores_a_trocar = ['estado_onde_reside', 'estado_onde_nasceu', 'estado_onde_trabalha']\n",
    "\n",
    "dicionario = {'AC':'NO', 'AP':'NO', 'AM':'NO', 'PA':'NO', 'RO':'NO', 'RR':'NO', 'TO':'NO',\\\n",
    "              'MA':'NE', 'PI':'NE', 'CE':'NE', 'RN':'NE', 'PB':'NE', 'PE':'NE', \\\n",
    "             'AL':'NE', 'SE':'NE', 'BA':'NE', 'MT':'CO', 'MS':'CO', 'GO':'CO',\\\n",
    "             'DF':'CO', 'RJ':'SD', 'MG':'SD', 'SP':'SD', 'ES':'SD', 'SC':'SU', 'PR':'SU', 'RS':'SU', 'XX':'NC'}\n",
    "\n",
    "for coluna in valores_a_trocar:\n",
    "    dados_treino[coluna] = dados_treino[coluna].map(dicionario, na_action='NC')\n",
    "    dados_teste[coluna] = dados_teste[coluna].map(dicionario, na_action='NC')\n",
    "    \n",
    "dados_treino = pd.get_dummies(dados_treino, columns=valores_a_trocar)\n",
    "dados_teste = pd.get_dummies(dados_teste, columns=valores_a_trocar)"
   ]
  },
  {
   "cell_type": "code",
   "execution_count": 40,
   "id": "fb0d1319",
   "metadata": {},
   "outputs": [],
   "source": [
    "# troca os valores ' ' das colunas listadas por NaN\n",
    "valores_a_trocar = ['codigo_area_telefone_residencial', 'codigo_area_telefone_trabalho']\n",
    "\n",
    "for coluna in valores_a_trocar:        \n",
    "    dados_treino[coluna] = dados_treino[coluna].replace(' ', np.nan)\n",
    "    dados_teste[coluna] = dados_teste[coluna].replace(' ', np.nan)"
   ]
  },
  {
   "cell_type": "markdown",
   "id": "a6ae1e4b",
   "metadata": {},
   "source": [
    "Após as tratativas nas últimas 4 células, finalmente tem-se dados com todas as linhas preenchidas. Ao longo das tratativas alguns dados foram transformados e/ou removidos, alterando de alguma forma na precisão do modelo.\n",
    "\n",
    "Agora, com todos os dados transformados pode-se substituir os valores faltantes por alguma métrica."
   ]
  },
  {
   "cell_type": "markdown",
   "id": "3721f41b",
   "metadata": {},
   "source": [
    "## Substituindo os dados faltantes"
   ]
  },
  {
   "cell_type": "markdown",
   "id": "675d32cf",
   "metadata": {},
   "source": [
    "A fim de simplificar as operações, substitui-se os dados faltantes das colunas não quantitativas pela mediana e os das colunas quantitativas pela média."
   ]
  },
  {
   "cell_type": "code",
   "execution_count": 41,
   "id": "68168704",
   "metadata": {},
   "outputs": [],
   "source": [
    "dados_treino = dados_treino.astype(float)\n",
    "dados_teste = dados_teste.astype(float)"
   ]
  },
  {
   "cell_type": "code",
   "execution_count": 42,
   "id": "43fc7f59",
   "metadata": {},
   "outputs": [],
   "source": [
    "# Substitui os dados NaN pela mediana ou média da coluna\n",
    "\n",
    "colunas_quantitativas = ['idade', 'meses_na_residencia']\n",
    "# as variáveis de renda não entram nessa lista pois a média colocaria um viés na realidade do universo das amostras\n",
    "\n",
    "for coluna in dados_treino.columns:\n",
    "    if coluna == 'inadimplente':\n",
    "        continue\n",
    "    elif coluna in colunas_quantitativas:\n",
    "        dados_teste[[coluna]] = dados_teste[[coluna]].fillna(dados_teste.mean())\n",
    "        dados_treino[[coluna]] = dados_treino[[coluna]].fillna(dados_treino.mean())\n",
    "    else:\n",
    "        dados_teste[[coluna]] = dados_teste[[coluna]].fillna(dados_teste.median())\n",
    "        dados_treino[[coluna]] = dados_treino[[coluna]].fillna(dados_treino.median())"
   ]
  },
  {
   "cell_type": "markdown",
   "id": "f66c3de7",
   "metadata": {},
   "source": [
    "# Criando os modelos classificadores"
   ]
  },
  {
   "cell_type": "markdown",
   "id": "cbcba3bb",
   "metadata": {},
   "source": [
    "Neste ponto os dados estão todos em valor numérico com todas as colunas preenchidas. Pode-se, portanto, prosseguir para a criação do modelo preditivo."
   ]
  },
  {
   "cell_type": "markdown",
   "id": "90edad21",
   "metadata": {},
   "source": [
    "## Escolha de variáveis"
   ]
  },
  {
   "cell_type": "code",
   "execution_count": 43,
   "id": "c891716a",
   "metadata": {},
   "outputs": [
    {
     "data": {
      "text/plain": [
       "{'produto_solicitado': 0.0301,\n",
       " 'dia_vencimento': 0.0804,\n",
       " 'tipo_endereco': 0.0044,\n",
       " 'idade': 0.1207,\n",
       " 'estado_civil': 0.0313,\n",
       " 'qtde_dependentes': 0.0207,\n",
       " 'nacionalidade': 0.0005,\n",
       " 'codigo_area_telefone_residencial': 0.0132,\n",
       " 'tipo_residencia': 0.0181,\n",
       " 'meses_na_residencia': 0.0323,\n",
       " 'possui_email': 0.0057,\n",
       " 'renda_mensal_regular': 0.0009,\n",
       " 'renda_extra': 0.0058,\n",
       " 'possui_cartao_visa': 0.0013,\n",
       " 'possui_cartao_mastercard': 0.02,\n",
       " 'possui_cartao_diners': 0.0025,\n",
       " 'possui_cartao_amex': 0.0011,\n",
       " 'possui_outros_cartoes': 0.0032,\n",
       " 'qtde_contas_bancarias': 0.0142,\n",
       " 'valor_patrimonio_pessoal': 0.0012,\n",
       " 'possui_carro': 0.0127,\n",
       " 'codigo_area_telefone_trabalho': 0.0084,\n",
       " 'profissao': 0.0126,\n",
       " 'ocupacao': 0.0386,\n",
       " 'profissao_companheiro': 0.0232,\n",
       " 'grau_instrucao_companheiro': 0.0228,\n",
       " 'local_onde_reside': 0.0189,\n",
       " 'local_onde_trabalha': 0.0189,\n",
       " 'inadimplente': 1.0,\n",
       " 'possui_telefone_residencial_N': 0.0808,\n",
       " 'possui_telefone_residencial_Y': 0.0808,\n",
       " 'vinculo_formal_com_empresa_N': 0.0062,\n",
       " 'vinculo_formal_com_empresa_Y': 0.0062,\n",
       " 'possui_telefone_trabalho_N': 0.016,\n",
       " 'possui_telefone_trabalho_Y': 0.016,\n",
       " 'forma_envio_solicitacao_correio': 0.0173,\n",
       " 'forma_envio_solicitacao_internet': 0.0063,\n",
       " 'forma_envio_solicitacao_presencial': 0.0137,\n",
       " 'sexo_F': 0.0297,\n",
       " 'sexo_M': 0.0293,\n",
       " 'sexo_N': 0.0014,\n",
       " 'estado_onde_reside_CO': 0.0161,\n",
       " 'estado_onde_reside_NE': 0.0323,\n",
       " 'estado_onde_reside_NO': 0.0099,\n",
       " 'estado_onde_reside_SD': 0.0074,\n",
       " 'estado_onde_reside_SU': 0.0411,\n",
       " 'estado_onde_nasceu_CO': 0.0096,\n",
       " 'estado_onde_nasceu_NE': 0.019,\n",
       " 'estado_onde_nasceu_NO': 0.0092,\n",
       " 'estado_onde_nasceu_SD': 0.0013,\n",
       " 'estado_onde_nasceu_SU': 0.0398,\n",
       " 'estado_onde_trabalha_CO': 0.0149,\n",
       " 'estado_onde_trabalha_NE': 0.0358,\n",
       " 'estado_onde_trabalha_NO': 0.0042,\n",
       " 'estado_onde_trabalha_SD': 0.0064,\n",
       " 'estado_onde_trabalha_SU': 0.0075}"
      ]
     },
     "execution_count": 43,
     "metadata": {},
     "output_type": "execute_result"
    }
   ],
   "source": [
    "# calcula o coeficiente de Pearson para cada coluna em relação ao alvo\n",
    "pearson_coef = {coluna:round(abs(pearsonr(dados_treino[coluna], dados_treino['inadimplente'])[0]),4) for coluna in dados_treino.columns}\n",
    "\n",
    "pearson_coef"
   ]
  },
  {
   "cell_type": "code",
   "execution_count": 44,
   "id": "c22e2eea",
   "metadata": {},
   "outputs": [],
   "source": [
    "from operator import itemgetter\n",
    "\n",
    "coef_ordenados = sorted(pearson_coef.items(), key=itemgetter(1))\n",
    "media_coef = []\n",
    "\n",
    "for indice, tupla in enumerate(coef_ordenados):\n",
    "    coef = tupla[1]\n",
    "    coluna = tupla[0]\n",
    "    for colunas in dados_treino.columns:\n",
    "        if colunas not in ['inadimplente', coluna]:\n",
    "            media_coef.append(abs(round(pearsonr(dados_treino[coluna], dados_treino[colunas])[0],2)))\n",
    "    correlacao_media = mean(media_coef)\n",
    "    coef_ordenados[indice] = [coluna, coef, round(correlacao_media, 4), round(coef/correlacao_media, 4)]"
   ]
  },
  {
   "cell_type": "code",
   "execution_count": 77,
   "id": "c52aec4b",
   "metadata": {
    "scrolled": false
   },
   "outputs": [
    {
     "data": {
      "text/plain": [
       "[['nacionalidade', 0.0005, 0.0656, 0.0076],\n",
       " ['renda_mensal_regular', 0.0009, 0.0367, 0.0245],\n",
       " ['estado_onde_nasceu_SD', 0.0013, 0.0413, 0.0315],\n",
       " ['possui_cartao_amex', 0.0011, 0.0299, 0.0368],\n",
       " ['sexo_N', 0.0014, 0.0371, 0.0377],\n",
       " ['valor_patrimonio_pessoal', 0.0012, 0.0256, 0.0468],\n",
       " ['possui_cartao_visa', 0.0013, 0.0267, 0.0487],\n",
       " ['possui_cartao_diners', 0.0025, 0.0344, 0.0726],\n",
       " ['possui_outros_cartoes', 0.0032, 0.0316, 0.1013],\n",
       " ['estado_onde_trabalha_NO', 0.0042, 0.0359, 0.1171],\n",
       " ['estado_onde_trabalha_SD', 0.0064, 0.0524, 0.1222],\n",
       " ['estado_onde_trabalha_SU', 0.0075, 0.0585, 0.1282],\n",
       " ['tipo_endereco', 0.0044, 0.0342, 0.1286],\n",
       " ['forma_envio_solicitacao_internet', 0.0063, 0.0486, 0.1295],\n",
       " ['estado_onde_reside_SD', 0.0074, 0.0567, 0.1306],\n",
       " ['vinculo_formal_com_empresa_Y', 0.0062, 0.0453, 0.1368],\n",
       " ['codigo_area_telefone_trabalho', 0.0084, 0.06, 0.1399],\n",
       " ['estado_onde_nasceu_NO', 0.0092, 0.0606, 0.1519],\n",
       " ['possui_email', 0.0057, 0.0374, 0.1523],\n",
       " ['vinculo_formal_com_empresa_N', 0.0062, 0.0404, 0.1533],\n",
       " ['estado_onde_nasceu_CO', 0.0096, 0.0608, 0.1578],\n",
       " ['estado_onde_reside_NO', 0.0099, 0.0619, 0.1598],\n",
       " ['renda_extra', 0.0058, 0.0348, 0.1666],\n",
       " ['possui_carro', 0.0127, 0.0633, 0.2007],\n",
       " ['profissao', 0.0126, 0.0622, 0.2027],\n",
       " ['codigo_area_telefone_residencial', 0.0132, 0.0651, 0.2028],\n",
       " ['forma_envio_solicitacao_presencial', 0.0137, 0.0661, 0.2073],\n",
       " ['qtde_contas_bancarias', 0.0142, 0.0669, 0.2123],\n",
       " ['estado_onde_trabalha_CO', 0.0149, 0.067, 0.2224],\n",
       " ['possui_telefone_trabalho_Y', 0.016, 0.0699, 0.2289],\n",
       " ['estado_onde_reside_CO', 0.0161, 0.0701, 0.2298],\n",
       " ['possui_telefone_trabalho_N', 0.016, 0.0685, 0.2336],\n",
       " ['forma_envio_solicitacao_correio', 0.0173, 0.0696, 0.2485],\n",
       " ['estado_onde_nasceu_NE', 0.019, 0.0723, 0.2628],\n",
       " ['tipo_residencia', 0.0181, 0.0682, 0.2655],\n",
       " ['local_onde_trabalha', 0.0189, 0.0709, 0.2666],\n",
       " ['local_onde_reside', 0.0189, 0.0696, 0.2717],\n",
       " ['possui_cartao_mastercard', 0.02, 0.0713, 0.2806],\n",
       " ['qtde_dependentes', 0.0207, 0.0703, 0.2946],\n",
       " ['grau_instrucao_companheiro', 0.0228, 0.0692, 0.3296],\n",
       " ['profissao_companheiro', 0.0232, 0.0693, 0.3348],\n",
       " ['sexo_M', 0.0293, 0.0689, 0.4253],\n",
       " ['sexo_F', 0.0297, 0.0685, 0.4337],\n",
       " ['produto_solicitado', 0.0301, 0.0673, 0.4471],\n",
       " ['estado_civil', 0.0313, 0.0666, 0.4698],\n",
       " ['estado_onde_reside_NE', 0.0323, 0.0674, 0.4789],\n",
       " ['meses_na_residencia', 0.0323, 0.0662, 0.4882],\n",
       " ['estado_onde_trabalha_NE', 0.0358, 0.0681, 0.5258],\n",
       " ['ocupacao', 0.0386, 0.0675, 0.5718],\n",
       " ['estado_onde_nasceu_SU', 0.0398, 0.0683, 0.583],\n",
       " ['estado_onde_reside_SU', 0.0411, 0.069, 0.5952],\n",
       " ['dia_vencimento', 0.0804, 0.0683, 1.177],\n",
       " ['possui_telefone_residencial_N', 0.0808, 0.068, 1.1886],\n",
       " ['possui_telefone_residencial_Y', 0.0808, 0.0677, 1.1942],\n",
       " ['idade', 0.1207, 0.0677, 1.7824],\n",
       " ['inadimplente', 1.0, 0.0669, 14.9575]]"
      ]
     },
     "execution_count": 77,
     "metadata": {},
     "output_type": "execute_result"
    }
   ],
   "source": [
    "coef_ordenados = sorted(coef_ordenados, key=itemgetter(3))\n",
    "coef_ordenados"
   ]
  },
  {
   "cell_type": "code",
   "execution_count": 78,
   "id": "a2be6776",
   "metadata": {},
   "outputs": [
    {
     "data": {
      "text/plain": [
       "['forma_envio_solicitacao_internet',\n",
       " 'estado_onde_reside_SD',\n",
       " 'vinculo_formal_com_empresa_Y',\n",
       " 'codigo_area_telefone_trabalho',\n",
       " 'estado_onde_nasceu_NO',\n",
       " 'possui_email',\n",
       " 'vinculo_formal_com_empresa_N',\n",
       " 'estado_onde_nasceu_CO',\n",
       " 'estado_onde_reside_NO',\n",
       " 'renda_extra',\n",
       " 'possui_carro',\n",
       " 'profissao',\n",
       " 'codigo_area_telefone_residencial',\n",
       " 'forma_envio_solicitacao_presencial',\n",
       " 'qtde_contas_bancarias',\n",
       " 'estado_onde_trabalha_CO',\n",
       " 'possui_telefone_trabalho_Y',\n",
       " 'estado_onde_reside_CO',\n",
       " 'possui_telefone_trabalho_N',\n",
       " 'forma_envio_solicitacao_correio',\n",
       " 'estado_onde_nasceu_NE',\n",
       " 'tipo_residencia',\n",
       " 'local_onde_trabalha',\n",
       " 'local_onde_reside',\n",
       " 'possui_cartao_mastercard',\n",
       " 'qtde_dependentes',\n",
       " 'grau_instrucao_companheiro',\n",
       " 'profissao_companheiro',\n",
       " 'sexo_M',\n",
       " 'sexo_F',\n",
       " 'produto_solicitado',\n",
       " 'estado_civil',\n",
       " 'estado_onde_reside_NE',\n",
       " 'meses_na_residencia',\n",
       " 'estado_onde_trabalha_NE',\n",
       " 'ocupacao',\n",
       " 'estado_onde_nasceu_SU',\n",
       " 'estado_onde_reside_SU',\n",
       " 'dia_vencimento',\n",
       " 'possui_telefone_residencial_N',\n",
       " 'possui_telefone_residencial_Y',\n",
       " 'idade',\n",
       " 'inadimplente']"
      ]
     },
     "execution_count": 78,
     "metadata": {},
     "output_type": "execute_result"
    }
   ],
   "source": [
    "indice_aceitavel = 13 #30 ou 29\n",
    "variaveis_escolhidas = []\n",
    "\n",
    "for item in coef_ordenados[indice_aceitavel:]:\n",
    "    variaveis_escolhidas.append(item[0])\n",
    "\n",
    "variaveis_escolhidas"
   ]
  },
  {
   "cell_type": "code",
   "execution_count": 47,
   "id": "95898b0b",
   "metadata": {},
   "outputs": [],
   "source": [
    "dados_treino = dados_treino[variaveis_escolhidas]\n",
    "dados_teste = dados_teste[variaveis_escolhidas[:-1]]"
   ]
  },
  {
   "cell_type": "markdown",
   "id": "d9d24c77",
   "metadata": {},
   "source": [
    "## Separação dos dados"
   ]
  },
  {
   "cell_type": "code",
   "execution_count": 59,
   "id": "7139d600",
   "metadata": {},
   "outputs": [],
   "source": [
    "#separacao do conjunto de treino em alvo e features e em subconjunto de teste e treino\n",
    "dados_treino = dados_treino.sample(frac=1, random_state=135)\n",
    "\n",
    "X = dados_treino.drop(columns=['inadimplente'])\n",
    "Y = dados_treino['inadimplente']\n",
    "\n",
    "teste_sample = 0.85\n",
    "\n",
    "x_treino = X[:int(len(X)*teste_sample)]\n",
    "y_treino = Y[:int(len(X)*teste_sample)]\n",
    "\n",
    "x_teste = X[int(len(X)*teste_sample):]\n",
    "y_teste = Y[int(len(X)*teste_sample):]"
   ]
  },
  {
   "cell_type": "markdown",
   "id": "505d7c94",
   "metadata": {},
   "source": [
    "## Scaling dos dados"
   ]
  },
  {
   "cell_type": "code",
   "execution_count": 49,
   "id": "0815ae24",
   "metadata": {},
   "outputs": [],
   "source": [
    "standard_scaler =  StandardScaler() #MinMaxScaler()\n",
    "X = standard_scaler.fit_transform(X)"
   ]
  },
  {
   "cell_type": "markdown",
   "id": "2d08cd9f",
   "metadata": {},
   "source": [
    "## Criando KNN"
   ]
  },
  {
   "cell_type": "code",
   "execution_count": 68,
   "id": "d21f7790",
   "metadata": {
    "scrolled": false
   },
   "outputs": [
    {
     "name": "stdout",
     "output_type": "stream",
     "text": [
      "  K   |   TESTE   |  TREINO  \n",
      "90      56.63%      59.33%\n",
      "105      57.2%      59.02%\n",
      "120      56.77%      58.72%\n",
      "135      56.27%      58.66%\n",
      "150      56.9%      58.41%\n",
      "165      57.3%      58.52%\n"
     ]
    }
   ],
   "source": [
    "# Ajuste grosso de hiperparametro\n",
    "\n",
    "print(\"  K   |   TESTE   |  TREINO  \")\n",
    "for numero_kneighbors in range(90, 170, 15):\n",
    "    classificadorKNN = KNeighborsClassifier(n_neighbors=numero_kneighbors, weights='uniform')\n",
    "    classificadorKNN = classificadorKNN.fit(x_treino, y_treino)\n",
    "\n",
    "    predicao_teste = classificadorKNN.predict(x_teste)\n",
    "    predicao_treino = classificadorKNN.predict(x_treino)\n",
    "    \n",
    "    print(\"%d    \" %numero_kneighbors, end='')\n",
    "    print(f\"  {round(sum(predicao_teste == y_teste)*100/len(y_teste),2)}%      {round(100*sum(predicao_treino == y_treino)/len(y_treino), 2)}%\")"
   ]
  },
  {
   "cell_type": "code",
   "execution_count": 72,
   "id": "1d17ebca",
   "metadata": {},
   "outputs": [
    {
     "name": "stdout",
     "output_type": "stream",
     "text": [
      "0.5679\n"
     ]
    }
   ],
   "source": [
    "# Verifica a acurácia do melhor classificador KNN\n",
    "\n",
    "classificadorKNN = KNeighborsClassifier(n_neighbors=165, weights='uniform') #151\n",
    "\n",
    "scores = cross_val_score(classificadorKNN, X, Y, cv=3)\n",
    "print(\"%.4f\" %mean(scores))"
   ]
  },
  {
   "cell_type": "markdown",
   "id": "540720b5",
   "metadata": {},
   "source": [
    "## Criando SVM com Kernel"
   ]
  },
  {
   "cell_type": "code",
   "execution_count": 70,
   "id": "3d5e2a34",
   "metadata": {
    "scrolled": true
   },
   "outputs": [
    {
     "name": "stdout",
     "output_type": "stream",
     "text": [
      "  C   |   TESTE   |  TREINO  \n",
      "0.01  49.87%      50.02%\n",
      "0.06  49.87%      50.02%\n",
      "0.11  49.87%      50.53%\n"
     ]
    }
   ],
   "source": [
    "# Ajuste de hiperparametro\n",
    "\n",
    "print(\"  C   |   TESTE   |  TREINO  \")\n",
    "for c in np.arange(0.01, 0.15, 0.05):\n",
    "    classificadorSVM = SVC(kernel='rbf', C=c, gamma='auto')\n",
    "    \n",
    "    classificadorSVM = classificadorSVM.fit(x_treino, y_treino)\n",
    "\n",
    "    predicao_teste = classificadorSVM.predict(x_teste)\n",
    "    predicao_treino = classificadorSVM.predict(x_treino)\n",
    "\n",
    "    print(\"%.2f\" %c, end='')\n",
    "    print(f\"  {round(sum(predicao_teste == y_teste)*100/len(y_teste),2)}%      {round(100*sum(predicao_treino == y_treino)/len(y_treino), 2)}%\")"
   ]
  },
  {
   "cell_type": "code",
   "execution_count": 71,
   "id": "a9b6a19c",
   "metadata": {},
   "outputs": [
    {
     "name": "stdout",
     "output_type": "stream",
     "text": [
      "0.08   0.5054\n"
     ]
    }
   ],
   "source": [
    "# Verifica a acurácia do melhor classificador SVM dentro e fora da amostra de teste\n",
    "\n",
    "classificadorSVM = SVC(kernel='rbf', C=0.08, gamma='auto')\n",
    "\n",
    "scores = cross_val_score(classificadorSVM, X, Y, cv=3)\n",
    "print(\"%0.2f   \" %0.08, end='')\n",
    "print(\"%.4f\" %mean(scores)) "
   ]
  },
  {
   "cell_type": "markdown",
   "id": "22e0360d",
   "metadata": {},
   "source": [
    "## Criando Logistic Regression (talvez trocar por um RF msm)"
   ]
  },
  {
   "cell_type": "code",
   "execution_count": 62,
   "id": "b27c1c0d",
   "metadata": {
    "scrolled": true
   },
   "outputs": [
    {
     "name": "stdout",
     "output_type": "stream",
     "text": [
      "  C   |   %  \n",
      "0.001    0.5745\n",
      "0.003    0.5814\n",
      "0.010    0.5843\n",
      "0.032    0.5839\n",
      "0.100    0.5839\n",
      "0.316    0.5842\n",
      "1.000    0.5839\n",
      "3.162    0.5852\n",
      "10.000    0.5846\n",
      "31.623    0.5830\n",
      "100.000    0.5841\n",
      "316.228    0.5842\n",
      "1000.000    0.5830\n",
      "3162.278    0.5847\n"
     ]
    }
   ],
   "source": [
    "# Ajuste de hiperparametro\n",
    "\n",
    "print(\"  C   |   %  \")\n",
    "for expo in np.arange(-3, 4, 0.5):\n",
    "    C = 10**expo\n",
    "    classificadorLRC = LogisticRegression(penalty='l2', C=C, max_iter=10000)\n",
    "    \n",
    "    scores = cross_val_score(classificadorLRC, X, Y, cv=3)\n",
    "    print(\"%0.3f    \" %C, end='')\n",
    "    print(\"%.4f\" %mean(scores))"
   ]
  },
  {
   "cell_type": "code",
   "execution_count": 67,
   "id": "0413d625",
   "metadata": {},
   "outputs": [
    {
     "name": "stdout",
     "output_type": "stream",
     "text": [
      "TESTE   TREINO\n",
      "0.5867   0.587\n"
     ]
    }
   ],
   "source": [
    "# Verifica a acurácia do melhor classificador SVM dentro e fora da amostra de teste\n",
    "classificadorLRC = LogisticRegression(penalty='l2', C=0.316, max_iter=10000)\n",
    "classificadorLRC = classificadorLRC.fit(x_treino, y_treino)\n",
    "\n",
    "predicao_teste = classificadorLRC.predict(x_teste)\n",
    "predicao_treino = classificadorLRC.predict(x_treino)\n",
    "\n",
    "print(\"TESTE   TREINO\")\n",
    "print(f\"{round(sum(predicao_teste == y_teste)/len(y_teste),4)}   {round(sum(predicao_treino == y_treino)/len(y_treino), 4)}\")"
   ]
  },
  {
   "cell_type": "markdown",
   "id": "ee775ff6",
   "metadata": {},
   "source": [
    "## Criando o One vs. All"
   ]
  },
  {
   "cell_type": "code",
   "execution_count": 73,
   "id": "d1ee2e53",
   "metadata": {},
   "outputs": [],
   "source": [
    "class OneVsAll():\n",
    "    def __init__(self):\n",
    "        #self.KNN = KNeighborsClassifier(n_neighbors=319, weights='uniform')\n",
    "        self.SVM = SVC(kernel='rbf', C=0.08)\n",
    "        #self.LR = LogisticRegression(penalty='l2', C=0.002, max_iter=10000)\n",
    "    def fit_trinca(self, X, Y):\n",
    "        #self.KNN = self.KNN.fit(X, Y)\n",
    "        self.SVM = self.SVM.fit(X, Y)\n",
    "        #self.LR = self.LR.fit(X, Y)\n",
    "    def predict_trinca(self, X):\n",
    "        y_predict_KNN = self.SVM.predict(X) #self.KNN.predict(X)\n",
    "        y_predict_SVM = self.SVM.predict(X)\n",
    "        y_predict_LRC = self.SVM.predict(X) #self.LR.predict(X)\n",
    "\n",
    "        return [median([y_predict_KNN[indice], y_predict_SVM[indice], y_predict_LRC[indice]]) for indice in range(len(y_predict_KNN))]"
   ]
  },
  {
   "cell_type": "code",
   "execution_count": 74,
   "id": "a56d3c1c",
   "metadata": {},
   "outputs": [],
   "source": [
    "classificador = OneVsAll()"
   ]
  },
  {
   "cell_type": "markdown",
   "id": "531bfa67",
   "metadata": {},
   "source": [
    "# Avaliação do modelo"
   ]
  },
  {
   "cell_type": "code",
   "execution_count": 75,
   "id": "a789b4f1",
   "metadata": {},
   "outputs": [],
   "source": [
    "## matriz de conf, acuracia e etc\n",
    "classificador.fit_trinca(x_treino, y_treino)\n",
    "y_one_vs_all_teste = classificador.predict_trinca(x_teste)\n",
    "y_one_vs_all_treino = classificador.predict_trinca(x_treino)"
   ]
  },
  {
   "cell_type": "code",
   "execution_count": 76,
   "id": "ff2c1101",
   "metadata": {},
   "outputs": [
    {
     "name": "stdout",
     "output_type": "stream",
     "text": [
      "TESTE TREINO\n",
      "51.23 52.07\n"
     ]
    }
   ],
   "source": [
    "print(\"TESTE TREINO\")\n",
    "print(round(sum(y_one_vs_all_teste == y_teste)*100/len(y_teste), 2), round(sum(y_one_vs_all_treino == y_treino)*100/len(y_treino), 2))"
   ]
  },
  {
   "cell_type": "markdown",
   "id": "a9bae6e1",
   "metadata": {},
   "source": [
    "# Geração do arquivo de respostas"
   ]
  },
  {
   "cell_type": "code",
   "execution_count": 79,
   "id": "52f6bc2e",
   "metadata": {},
   "outputs": [],
   "source": [
    "x_treino_final = dados_treino.drop(columns=['inadimplente'])\n",
    "y_treino_final = dados_treino['inadimplente']\n",
    "\n",
    "x_resposta = dados_teste\n",
    "\n",
    "x_treino_final = standard_scaler.fit_transform(x_treino_final)\n",
    "x_resposta = standard_scaler.fit_transform(x_resposta)\n",
    "\n",
    "classificador.fit_trinca(x_treino_final, y_treino_final)\n",
    "y_resposta = classificador.predict_trinca(x_resposta)"
   ]
  },
  {
   "cell_type": "code",
   "execution_count": 80,
   "id": "23286f88",
   "metadata": {},
   "outputs": [],
   "source": [
    "id_solicitante = [x+20001 for x in range(5000)]\n",
    "\n",
    "dados_resposta = pd.DataFrame(list(zip(id_solicitante, y_resposta)), columns=['id_solicitante', 'inadimplente'])"
   ]
  },
  {
   "cell_type": "code",
   "execution_count": 81,
   "id": "05106768",
   "metadata": {},
   "outputs": [],
   "source": [
    "dados_resposta.to_csv(\"arquivo_resposta.csv\", index=False)"
   ]
  },
  {
   "cell_type": "code",
   "execution_count": null,
   "id": "9a138d40",
   "metadata": {},
   "outputs": [],
   "source": []
  }
 ],
 "metadata": {
  "kernelspec": {
   "display_name": "Python 3 (ipykernel)",
   "language": "python",
   "name": "python3"
  },
  "language_info": {
   "codemirror_mode": {
    "name": "ipython",
    "version": 3
   },
   "file_extension": ".py",
   "mimetype": "text/x-python",
   "name": "python",
   "nbconvert_exporter": "python",
   "pygments_lexer": "ipython3",
   "version": "3.10.4"
  }
 },
 "nbformat": 4,
 "nbformat_minor": 5
}
