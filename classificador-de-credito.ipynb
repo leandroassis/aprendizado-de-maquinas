{
 "cells": [
  {
   "cell_type": "code",
   "execution_count": 52,
   "id": "4b65313d",
   "metadata": {},
   "outputs": [],
   "source": [
    "# Importação das bibliotecas usadas no desenvolvimento do projeto\n",
    "import pandas as pd\n",
    "from sklearn.preprocessing import StandardScaler\n",
    "from sklearn.neighbors import KNeighborsClassifier\n",
    "from sklearn.linear_model import LogisticRegression\n",
    "from sklearn.ensemble import RandomForestClassifier\n",
    "from sklearn.tree import DecisionTreeClassifier\n",
    "from sklearn.svm import SVC\n",
    "from scipy.stats import pearsonr\n",
    "import matplotlib.pyplot as plt\n",
    "import numpy as np\n",
    "from sklearn.model_selection import cross_val_score\n",
    "from statistics import mean, median\n",
    "from scipy import stats"
   ]
  },
  {
   "cell_type": "code",
   "execution_count": 53,
   "id": "8418260b",
   "metadata": {},
   "outputs": [],
   "source": [
    "# Importação dos conjutos de amostras\n",
    "dados_treino = pd.read_csv(\"conjunto_de_treinamento.csv\", delimiter=\",\", decimal=\".\")\n",
    "dados_teste = pd.read_csv(\"conjunto_de_teste.csv\", delimiter=\",\", decimal=\".\")"
   ]
  },
  {
   "cell_type": "code",
   "execution_count": 54,
   "id": "447ee0e9",
   "metadata": {},
   "outputs": [
    {
     "data": {
      "text/html": [
       "<div>\n",
       "<style scoped>\n",
       "    .dataframe tbody tr th:only-of-type {\n",
       "        vertical-align: middle;\n",
       "    }\n",
       "\n",
       "    .dataframe tbody tr th {\n",
       "        vertical-align: top;\n",
       "    }\n",
       "\n",
       "    .dataframe thead th {\n",
       "        text-align: right;\n",
       "    }\n",
       "</style>\n",
       "<table border=\"1\" class=\"dataframe\">\n",
       "  <thead>\n",
       "    <tr style=\"text-align: right;\">\n",
       "      <th></th>\n",
       "      <th>id_solicitante</th>\n",
       "      <th>produto_solicitado</th>\n",
       "      <th>dia_vencimento</th>\n",
       "      <th>forma_envio_solicitacao</th>\n",
       "      <th>tipo_endereco</th>\n",
       "      <th>sexo</th>\n",
       "      <th>idade</th>\n",
       "      <th>estado_civil</th>\n",
       "      <th>qtde_dependentes</th>\n",
       "      <th>grau_instrucao</th>\n",
       "      <th>...</th>\n",
       "      <th>estado_onde_trabalha</th>\n",
       "      <th>possui_telefone_trabalho</th>\n",
       "      <th>codigo_area_telefone_trabalho</th>\n",
       "      <th>meses_no_trabalho</th>\n",
       "      <th>profissao</th>\n",
       "      <th>ocupacao</th>\n",
       "      <th>profissao_companheiro</th>\n",
       "      <th>grau_instrucao_companheiro</th>\n",
       "      <th>local_onde_reside</th>\n",
       "      <th>local_onde_trabalha</th>\n",
       "    </tr>\n",
       "  </thead>\n",
       "  <tbody>\n",
       "    <tr>\n",
       "      <th>0</th>\n",
       "      <td>20001</td>\n",
       "      <td>1</td>\n",
       "      <td>25</td>\n",
       "      <td>presencial</td>\n",
       "      <td>1</td>\n",
       "      <td>M</td>\n",
       "      <td>37</td>\n",
       "      <td>2</td>\n",
       "      <td>0</td>\n",
       "      <td>0</td>\n",
       "      <td>...</td>\n",
       "      <td></td>\n",
       "      <td>N</td>\n",
       "      <td></td>\n",
       "      <td>0</td>\n",
       "      <td>0.0</td>\n",
       "      <td>0.0</td>\n",
       "      <td>0.0</td>\n",
       "      <td>0.0</td>\n",
       "      <td>384.0</td>\n",
       "      <td>384.0</td>\n",
       "    </tr>\n",
       "    <tr>\n",
       "      <th>1</th>\n",
       "      <td>20002</td>\n",
       "      <td>1</td>\n",
       "      <td>10</td>\n",
       "      <td>internet</td>\n",
       "      <td>1</td>\n",
       "      <td>F</td>\n",
       "      <td>31</td>\n",
       "      <td>2</td>\n",
       "      <td>0</td>\n",
       "      <td>0</td>\n",
       "      <td>...</td>\n",
       "      <td>RJ</td>\n",
       "      <td>N</td>\n",
       "      <td></td>\n",
       "      <td>0</td>\n",
       "      <td>9.0</td>\n",
       "      <td>5.0</td>\n",
       "      <td>NaN</td>\n",
       "      <td>NaN</td>\n",
       "      <td>275.0</td>\n",
       "      <td>275.0</td>\n",
       "    </tr>\n",
       "    <tr>\n",
       "      <th>2</th>\n",
       "      <td>20003</td>\n",
       "      <td>1</td>\n",
       "      <td>10</td>\n",
       "      <td>internet</td>\n",
       "      <td>1</td>\n",
       "      <td>F</td>\n",
       "      <td>18</td>\n",
       "      <td>2</td>\n",
       "      <td>0</td>\n",
       "      <td>0</td>\n",
       "      <td>...</td>\n",
       "      <td>RS</td>\n",
       "      <td>N</td>\n",
       "      <td></td>\n",
       "      <td>0</td>\n",
       "      <td>9.0</td>\n",
       "      <td>2.0</td>\n",
       "      <td>NaN</td>\n",
       "      <td>NaN</td>\n",
       "      <td>948.0</td>\n",
       "      <td>948.0</td>\n",
       "    </tr>\n",
       "    <tr>\n",
       "      <th>3</th>\n",
       "      <td>20004</td>\n",
       "      <td>1</td>\n",
       "      <td>10</td>\n",
       "      <td>presencial</td>\n",
       "      <td>1</td>\n",
       "      <td>F</td>\n",
       "      <td>55</td>\n",
       "      <td>2</td>\n",
       "      <td>0</td>\n",
       "      <td>0</td>\n",
       "      <td>...</td>\n",
       "      <td></td>\n",
       "      <td>N</td>\n",
       "      <td></td>\n",
       "      <td>0</td>\n",
       "      <td>9.0</td>\n",
       "      <td>1.0</td>\n",
       "      <td>0.0</td>\n",
       "      <td>0.0</td>\n",
       "      <td>581.0</td>\n",
       "      <td>581.0</td>\n",
       "    </tr>\n",
       "    <tr>\n",
       "      <th>4</th>\n",
       "      <td>20005</td>\n",
       "      <td>1</td>\n",
       "      <td>10</td>\n",
       "      <td>presencial</td>\n",
       "      <td>1</td>\n",
       "      <td>F</td>\n",
       "      <td>55</td>\n",
       "      <td>1</td>\n",
       "      <td>0</td>\n",
       "      <td>0</td>\n",
       "      <td>...</td>\n",
       "      <td></td>\n",
       "      <td>N</td>\n",
       "      <td></td>\n",
       "      <td>0</td>\n",
       "      <td>0.0</td>\n",
       "      <td>1.0</td>\n",
       "      <td>0.0</td>\n",
       "      <td>0.0</td>\n",
       "      <td>573.0</td>\n",
       "      <td>573.0</td>\n",
       "    </tr>\n",
       "  </tbody>\n",
       "</table>\n",
       "<p>5 rows × 41 columns</p>\n",
       "</div>"
      ],
      "text/plain": [
       "   id_solicitante  produto_solicitado  dia_vencimento forma_envio_solicitacao  \\\n",
       "0           20001                   1              25              presencial   \n",
       "1           20002                   1              10                internet   \n",
       "2           20003                   1              10                internet   \n",
       "3           20004                   1              10              presencial   \n",
       "4           20005                   1              10              presencial   \n",
       "\n",
       "   tipo_endereco sexo  idade  estado_civil  qtde_dependentes  grau_instrucao  \\\n",
       "0              1    M     37             2                 0               0   \n",
       "1              1    F     31             2                 0               0   \n",
       "2              1    F     18             2                 0               0   \n",
       "3              1    F     55             2                 0               0   \n",
       "4              1    F     55             1                 0               0   \n",
       "\n",
       "   ...  estado_onde_trabalha possui_telefone_trabalho  \\\n",
       "0  ...                                              N   \n",
       "1  ...                    RJ                        N   \n",
       "2  ...                    RS                        N   \n",
       "3  ...                                              N   \n",
       "4  ...                                              N   \n",
       "\n",
       "  codigo_area_telefone_trabalho meses_no_trabalho profissao  ocupacao  \\\n",
       "0                                               0       0.0       0.0   \n",
       "1                                               0       9.0       5.0   \n",
       "2                                               0       9.0       2.0   \n",
       "3                                               0       9.0       1.0   \n",
       "4                                               0       0.0       1.0   \n",
       "\n",
       "   profissao_companheiro grau_instrucao_companheiro  local_onde_reside  \\\n",
       "0                    0.0                        0.0              384.0   \n",
       "1                    NaN                        NaN              275.0   \n",
       "2                    NaN                        NaN              948.0   \n",
       "3                    0.0                        0.0              581.0   \n",
       "4                    0.0                        0.0              573.0   \n",
       "\n",
       "   local_onde_trabalha  \n",
       "0                384.0  \n",
       "1                275.0  \n",
       "2                948.0  \n",
       "3                581.0  \n",
       "4                573.0  \n",
       "\n",
       "[5 rows x 41 columns]"
      ]
     },
     "execution_count": 54,
     "metadata": {},
     "output_type": "execute_result"
    }
   ],
   "source": [
    "dados_teste.head()"
   ]
  },
  {
   "cell_type": "code",
   "execution_count": 55,
   "id": "cf157f1d",
   "metadata": {},
   "outputs": [
    {
     "data": {
      "text/html": [
       "<div>\n",
       "<style scoped>\n",
       "    .dataframe tbody tr th:only-of-type {\n",
       "        vertical-align: middle;\n",
       "    }\n",
       "\n",
       "    .dataframe tbody tr th {\n",
       "        vertical-align: top;\n",
       "    }\n",
       "\n",
       "    .dataframe thead th {\n",
       "        text-align: right;\n",
       "    }\n",
       "</style>\n",
       "<table border=\"1\" class=\"dataframe\">\n",
       "  <thead>\n",
       "    <tr style=\"text-align: right;\">\n",
       "      <th></th>\n",
       "      <th>id_solicitante</th>\n",
       "      <th>produto_solicitado</th>\n",
       "      <th>dia_vencimento</th>\n",
       "      <th>forma_envio_solicitacao</th>\n",
       "      <th>tipo_endereco</th>\n",
       "      <th>sexo</th>\n",
       "      <th>idade</th>\n",
       "      <th>estado_civil</th>\n",
       "      <th>qtde_dependentes</th>\n",
       "      <th>grau_instrucao</th>\n",
       "      <th>...</th>\n",
       "      <th>possui_telefone_trabalho</th>\n",
       "      <th>codigo_area_telefone_trabalho</th>\n",
       "      <th>meses_no_trabalho</th>\n",
       "      <th>profissao</th>\n",
       "      <th>ocupacao</th>\n",
       "      <th>profissao_companheiro</th>\n",
       "      <th>grau_instrucao_companheiro</th>\n",
       "      <th>local_onde_reside</th>\n",
       "      <th>local_onde_trabalha</th>\n",
       "      <th>inadimplente</th>\n",
       "    </tr>\n",
       "  </thead>\n",
       "  <tbody>\n",
       "    <tr>\n",
       "      <th>0</th>\n",
       "      <td>1</td>\n",
       "      <td>1</td>\n",
       "      <td>10</td>\n",
       "      <td>presencial</td>\n",
       "      <td>1</td>\n",
       "      <td>M</td>\n",
       "      <td>85</td>\n",
       "      <td>2</td>\n",
       "      <td>0</td>\n",
       "      <td>0</td>\n",
       "      <td>...</td>\n",
       "      <td>N</td>\n",
       "      <td></td>\n",
       "      <td>0</td>\n",
       "      <td>9.0</td>\n",
       "      <td>1.0</td>\n",
       "      <td>0.0</td>\n",
       "      <td>0.0</td>\n",
       "      <td>600.0</td>\n",
       "      <td>600.0</td>\n",
       "      <td>0</td>\n",
       "    </tr>\n",
       "    <tr>\n",
       "      <th>1</th>\n",
       "      <td>2</td>\n",
       "      <td>1</td>\n",
       "      <td>25</td>\n",
       "      <td>internet</td>\n",
       "      <td>1</td>\n",
       "      <td>F</td>\n",
       "      <td>38</td>\n",
       "      <td>1</td>\n",
       "      <td>0</td>\n",
       "      <td>0</td>\n",
       "      <td>...</td>\n",
       "      <td>N</td>\n",
       "      <td></td>\n",
       "      <td>0</td>\n",
       "      <td>2.0</td>\n",
       "      <td>5.0</td>\n",
       "      <td>NaN</td>\n",
       "      <td>NaN</td>\n",
       "      <td>492.0</td>\n",
       "      <td>492.0</td>\n",
       "      <td>0</td>\n",
       "    </tr>\n",
       "    <tr>\n",
       "      <th>2</th>\n",
       "      <td>3</td>\n",
       "      <td>1</td>\n",
       "      <td>20</td>\n",
       "      <td>internet</td>\n",
       "      <td>1</td>\n",
       "      <td>F</td>\n",
       "      <td>37</td>\n",
       "      <td>2</td>\n",
       "      <td>0</td>\n",
       "      <td>0</td>\n",
       "      <td>...</td>\n",
       "      <td>N</td>\n",
       "      <td></td>\n",
       "      <td>0</td>\n",
       "      <td>NaN</td>\n",
       "      <td>NaN</td>\n",
       "      <td>NaN</td>\n",
       "      <td>NaN</td>\n",
       "      <td>450.0</td>\n",
       "      <td>450.0</td>\n",
       "      <td>1</td>\n",
       "    </tr>\n",
       "    <tr>\n",
       "      <th>3</th>\n",
       "      <td>4</td>\n",
       "      <td>1</td>\n",
       "      <td>20</td>\n",
       "      <td>internet</td>\n",
       "      <td>1</td>\n",
       "      <td>M</td>\n",
       "      <td>37</td>\n",
       "      <td>1</td>\n",
       "      <td>1</td>\n",
       "      <td>0</td>\n",
       "      <td>...</td>\n",
       "      <td>Y</td>\n",
       "      <td>54</td>\n",
       "      <td>0</td>\n",
       "      <td>9.0</td>\n",
       "      <td>2.0</td>\n",
       "      <td>NaN</td>\n",
       "      <td>NaN</td>\n",
       "      <td>932.0</td>\n",
       "      <td>932.0</td>\n",
       "      <td>1</td>\n",
       "    </tr>\n",
       "    <tr>\n",
       "      <th>4</th>\n",
       "      <td>5</td>\n",
       "      <td>7</td>\n",
       "      <td>1</td>\n",
       "      <td>internet</td>\n",
       "      <td>1</td>\n",
       "      <td>F</td>\n",
       "      <td>51</td>\n",
       "      <td>1</td>\n",
       "      <td>3</td>\n",
       "      <td>0</td>\n",
       "      <td>...</td>\n",
       "      <td>N</td>\n",
       "      <td></td>\n",
       "      <td>0</td>\n",
       "      <td>9.0</td>\n",
       "      <td>5.0</td>\n",
       "      <td>NaN</td>\n",
       "      <td>NaN</td>\n",
       "      <td>440.0</td>\n",
       "      <td>440.0</td>\n",
       "      <td>1</td>\n",
       "    </tr>\n",
       "  </tbody>\n",
       "</table>\n",
       "<p>5 rows × 42 columns</p>\n",
       "</div>"
      ],
      "text/plain": [
       "   id_solicitante  produto_solicitado  dia_vencimento forma_envio_solicitacao  \\\n",
       "0               1                   1              10              presencial   \n",
       "1               2                   1              25                internet   \n",
       "2               3                   1              20                internet   \n",
       "3               4                   1              20                internet   \n",
       "4               5                   7               1                internet   \n",
       "\n",
       "   tipo_endereco sexo  idade  estado_civil  qtde_dependentes  grau_instrucao  \\\n",
       "0              1    M     85             2                 0               0   \n",
       "1              1    F     38             1                 0               0   \n",
       "2              1    F     37             2                 0               0   \n",
       "3              1    M     37             1                 1               0   \n",
       "4              1    F     51             1                 3               0   \n",
       "\n",
       "   ...  possui_telefone_trabalho codigo_area_telefone_trabalho  \\\n",
       "0  ...                         N                                 \n",
       "1  ...                         N                                 \n",
       "2  ...                         N                                 \n",
       "3  ...                         Y                            54   \n",
       "4  ...                         N                                 \n",
       "\n",
       "  meses_no_trabalho profissao ocupacao  profissao_companheiro  \\\n",
       "0                 0       9.0      1.0                    0.0   \n",
       "1                 0       2.0      5.0                    NaN   \n",
       "2                 0       NaN      NaN                    NaN   \n",
       "3                 0       9.0      2.0                    NaN   \n",
       "4                 0       9.0      5.0                    NaN   \n",
       "\n",
       "   grau_instrucao_companheiro local_onde_reside  local_onde_trabalha  \\\n",
       "0                         0.0             600.0                600.0   \n",
       "1                         NaN             492.0                492.0   \n",
       "2                         NaN             450.0                450.0   \n",
       "3                         NaN             932.0                932.0   \n",
       "4                         NaN             440.0                440.0   \n",
       "\n",
       "   inadimplente  \n",
       "0             0  \n",
       "1             0  \n",
       "2             1  \n",
       "3             1  \n",
       "4             1  \n",
       "\n",
       "[5 rows x 42 columns]"
      ]
     },
     "execution_count": 55,
     "metadata": {},
     "output_type": "execute_result"
    }
   ],
   "source": [
    "dados_treino.head()"
   ]
  },
  {
   "cell_type": "markdown",
   "id": "503a6aeb",
   "metadata": {},
   "source": [
    "# Verificação de Outliers"
   ]
  },
  {
   "cell_type": "markdown",
   "id": "37dc60b7",
   "metadata": {},
   "source": [
    "Após gerar os gráficos de todas as colunas do datasets, percebeu-se que existem outliers em "
   ]
  },
  {
   "cell_type": "code",
   "execution_count": 56,
   "id": "4db03a22",
   "metadata": {
    "scrolled": true
   },
   "outputs": [],
   "source": [
    "#for coluna in dados_treino.columns:\n",
    "#     dados_treino.plot.scatter(x=coluna, y='inadimplente')"
   ]
  },
  {
   "cell_type": "code",
   "execution_count": 57,
   "id": "ac249170",
   "metadata": {},
   "outputs": [],
   "source": [
    "colunas_com_outlier = ['qtde_dependentes', 'renda_extra', 'valor_patrimonio_pessoal']\n",
    "# , 'meses_na_residencia''renda_mensal_regular', \n",
    "# meses_no_trabalho sera ignorado"
   ]
  },
  {
   "cell_type": "markdown",
   "id": "c39b4ac9",
   "metadata": {},
   "source": [
    "# Tratamento de dados"
   ]
  },
  {
   "cell_type": "markdown",
   "id": "d6afc25f",
   "metadata": {},
   "source": [
    "## Lidando com os NaN"
   ]
  },
  {
   "cell_type": "markdown",
   "id": "7e685c56",
   "metadata": {},
   "source": [
    "Como é possível observar nas 5 primeiras linhas dos dados de treino e teste, existem dados faltantes \"NaN\". Dado isto, quantifica-se a perda de dados ao simplesmente eliminar as linhas com NaN."
   ]
  },
  {
   "cell_type": "code",
   "execution_count": 58,
   "id": "b407bfb3",
   "metadata": {},
   "outputs": [
    {
     "name": "stdout",
     "output_type": "stream",
     "text": [
      "Perda de 65.12% dos dados de treino ao retirar linhas com informações faltantes.\n"
     ]
    }
   ],
   "source": [
    "linha_treino_com_na = dados_treino.shape[0]\n",
    "linha_treino_sem_na = dados_treino.dropna().shape[0]\n",
    "\n",
    "print(\"Perda de %0.2f%% dos dados de treino ao retirar linhas com informações faltantes.\" %(100 - linha_treino_sem_na*100/linha_treino_com_na))"
   ]
  },
  {
   "cell_type": "markdown",
   "id": "47a6d345",
   "metadata": {},
   "source": [
    "A perda de 65.12% do dataset é algo péssimo para o modelo pois perde grande parte da representação do universo. Para prosseguir sem perder essas amostras, optou-se por substituir os NaN de forma a manter a característica das distribuições.\n",
    "\n",
    "Para fazer essas substituições, primeiro faz-se o tratamento dos dados nos datasets de treino e teste. A seguir seguem as modificaçãoes feitas sobre os dados."
   ]
  },
  {
   "cell_type": "markdown",
   "id": "f13cae96",
   "metadata": {},
   "source": [
    "## Conversão dos dados e remoção de colunas"
   ]
  },
  {
   "cell_type": "markdown",
   "id": "8fc24e46",
   "metadata": {},
   "source": [
    "Primeiramente faz-se a análise do arquivo \"dicionario_de_dados.xlsx\" e segue-se as recomendações para remover as colunas com erro de preenchimento e colunas que visivelmente agregam pouco valor (por ter alta correlação com outra coluna. Ex. colunas de estados onde trabalha, habita e nasceu)."
   ]
  },
  {
   "cell_type": "code",
   "execution_count": 59,
   "id": "818b9347",
   "metadata": {},
   "outputs": [],
   "source": [
    "# forma_envio_solicitacao -> Abrir em 3 colunas (internet, correio e presencial)\n",
    "# sexo -> Abrir em 3 colunas (masculino, feminino, nao informado). Se vazio colocar N\n",
    "# grau_instrucao -> Remover\n",
    "# estado_onde_nasceu -> Remover, possui alta correlação  com \"estado_onde_reside\"\n",
    "# estado_onde_reside -> Transformar em regiões do país\n",
    "# possui_telefone_residencial -> Transformar em 1 - Sim 0 - Nao\n",
    "# possui_telefone_celular ->  Remover\n",
    "# qtde_contas_bancarias_especiais -> Remover\n",
    "# vinculo_formal_com_empresa -> Transformar em 1 - Sim 0 - Nao\n",
    "# estado_onde_trabalha -> Inútil, apenas 0.2% está preenchido\n",
    "# possui_telefone_trabalho -> Transformar em 1 - Sim 0 - Nao\n",
    "# meses_no_trabalho -> Remover\n",
    "\n",
    "# deleta as colunas desnecessárias/com dados corrompidos\n",
    "# codigo_area_telefone_residencial, codigo_area_telefone_trabalho, estado_onde_trabalha, estado_onde_nasceu\n",
    "dados_treino = dados_treino.drop(columns=['id_solicitante', 'grau_instrucao', 'possui_telefone_celular',\\\n",
    "                                          'qtde_contas_bancarias_especiais', 'meses_no_trabalho'])\n",
    "dados_teste = dados_teste.drop(columns=['grau_instrucao', 'possui_telefone_celular',\\\n",
    "                                          'qtde_contas_bancarias_especiais', 'meses_no_trabalho'])"
   ]
  },
  {
   "cell_type": "code",
   "execution_count": 60,
   "id": "4cb379ee",
   "metadata": {},
   "outputs": [],
   "source": [
    "# splita as colunas na lista \"valores_a_trocar\" em uma coluna para cada opção dentre as possíveis\n",
    "# caso o valor de uma linha da coluna sexo seja NaN, troca por N - Não informado\n",
    "valores = {'sexo':'N'}\n",
    "\n",
    "valores_a_trocar = ['possui_telefone_residencial', 'vinculo_formal_com_empresa', 'possui_telefone_trabalho', 'forma_envio_solicitacao', 'sexo']\n",
    "\n",
    "dados_treino = dados_treino.fillna(value=valores)\n",
    "dados_teste = dados_teste.fillna(value=valores)\n",
    "\n",
    "dados_treino = pd.get_dummies(dados_treino, columns=valores_a_trocar)\n",
    "dados_teste = pd.get_dummies(dados_teste, columns=valores_a_trocar)\n",
    "\n",
    "# drop necessário para tirar uma coluna de bug\n",
    "dados_treino = dados_treino.drop(columns=['sexo_ '])\n",
    "dados_teste = dados_teste.drop(columns=['sexo_ '])"
   ]
  },
  {
   "cell_type": "code",
   "execution_count": 61,
   "id": "caadf4d5",
   "metadata": {},
   "outputs": [],
   "source": [
    "# Troca os estados das colunas na lista abaixo pela região do estado e faz o get_dummie da coluna\n",
    "valores_a_trocar = ['estado_onde_reside', 'estado_onde_nasceu', 'estado_onde_trabalha']\n",
    "\n",
    "dicionario = {'AC':'NO', 'AP':'NO', 'AM':'NO', 'PA':'NO', 'RO':'NO', 'RR':'NO', 'TO':'NO',\\\n",
    "              'MA':'NE', 'PI':'NE', 'CE':'NE', 'RN':'NE', 'PB':'NE', 'PE':'NE', \\\n",
    "             'AL':'NE', 'SE':'NE', 'BA':'NE', 'MT':'CO', 'MS':'CO', 'GO':'CO',\\\n",
    "             'DF':'CO', 'RJ':'SD', 'MG':'SD', 'SP':'SD', 'ES':'SD', 'SC':'SU', 'PR':'SU', 'RS':'SU', 'XX':'NC'}\n",
    "\n",
    "for coluna in valores_a_trocar:\n",
    "    dados_treino[coluna] = dados_treino[coluna].map(dicionario, na_action='NC')\n",
    "    dados_teste[coluna] = dados_teste[coluna].map(dicionario, na_action='NC')\n",
    "    \n",
    "dados_treino = pd.get_dummies(dados_treino, columns=valores_a_trocar)\n",
    "dados_teste = pd.get_dummies(dados_teste, columns=valores_a_trocar)"
   ]
  },
  {
   "cell_type": "code",
   "execution_count": 62,
   "id": "fb0d1319",
   "metadata": {},
   "outputs": [],
   "source": [
    "# troca os valores ' ' das colunas listadas por NaN\n",
    "valores_a_trocar = ['codigo_area_telefone_residencial', 'codigo_area_telefone_trabalho']\n",
    "\n",
    "for coluna in valores_a_trocar:        \n",
    "    dados_treino[coluna] = dados_treino[coluna].replace(' ', np.nan)\n",
    "    dados_teste[coluna] = dados_teste[coluna].replace(' ', np.nan)"
   ]
  },
  {
   "cell_type": "markdown",
   "id": "a6ae1e4b",
   "metadata": {},
   "source": [
    "Após as tratativas nas últimas 4 células, finalmente tem-se dados com todas as linhas preenchidas. Ao longo das tratativas alguns dados foram transformados e/ou removidos, alterando de alguma forma na precisão do modelo.\n",
    "\n",
    "Agora, com todos os dados transformados pode-se substituir os valores faltantes por alguma métrica."
   ]
  },
  {
   "cell_type": "markdown",
   "id": "19cbd6ab",
   "metadata": {},
   "source": [
    "## Removendo outliers"
   ]
  },
  {
   "cell_type": "code",
   "execution_count": 63,
   "id": "68168704",
   "metadata": {},
   "outputs": [],
   "source": [
    "dados_treino = dados_treino.astype(float)\n",
    "dados_teste = dados_teste.astype(float)"
   ]
  },
  {
   "cell_type": "markdown",
   "id": "f3d6265d",
   "metadata": {},
   "source": [
    "Com todos os dados das colunas preenchidos, remove-se os outliers do conjunto."
   ]
  },
  {
   "cell_type": "code",
   "execution_count": 64,
   "id": "21dc1b44",
   "metadata": {},
   "outputs": [],
   "source": [
    "# avaliar apenas em colunas com falsos \n",
    "for coluna in colunas_com_outlier:\n",
    "    Q1 = np.percentile(dados_treino[coluna], 25,\n",
    "                   method = 'midpoint')\n",
    " \n",
    "    Q3 = np.percentile(dados_treino[coluna], 75,\n",
    "                   method = 'midpoint')\n",
    "    IQR = Q3 - Q1\n",
    " \n",
    "    max_ = Q3+1.5*IQR\n",
    "    min_ = Q1-1.5*IQR\n",
    "    \n",
    " \n",
    "    dados_treino.loc[dados_treino[coluna] < min_, coluna] = np.nan\n",
    "    dados_treino.loc[dados_treino[coluna] > max_, coluna] = np.nan"
   ]
  },
  {
   "cell_type": "code",
   "execution_count": 65,
   "id": "d6dcc905",
   "metadata": {},
   "outputs": [
    {
     "data": {
      "text/plain": [
       "produto_solicitado                        0\n",
       "dia_vencimento                            0\n",
       "tipo_endereco                             0\n",
       "idade                                     0\n",
       "estado_civil                              0\n",
       "qtde_dependentes                       1647\n",
       "nacionalidade                             0\n",
       "codigo_area_telefone_residencial       3534\n",
       "tipo_residencia                         536\n",
       "meses_na_residencia                    1450\n",
       "possui_email                              0\n",
       "renda_mensal_regular                      0\n",
       "renda_extra                            1070\n",
       "possui_cartao_visa                        0\n",
       "possui_cartao_mastercard                  0\n",
       "possui_cartao_diners                      0\n",
       "possui_cartao_amex                        0\n",
       "possui_outros_cartoes                     0\n",
       "qtde_contas_bancarias                     0\n",
       "valor_patrimonio_pessoal                928\n",
       "possui_carro                              0\n",
       "codigo_area_telefone_trabalho         14525\n",
       "profissao                              3097\n",
       "ocupacao                               2978\n",
       "profissao_companheiro                 11514\n",
       "grau_instrucao_companheiro            12860\n",
       "local_onde_reside                         0\n",
       "local_onde_trabalha                       0\n",
       "inadimplente                              0\n",
       "possui_telefone_residencial_N             0\n",
       "possui_telefone_residencial_Y             0\n",
       "vinculo_formal_com_empresa_N              0\n",
       "vinculo_formal_com_empresa_Y              0\n",
       "possui_telefone_trabalho_N                0\n",
       "possui_telefone_trabalho_Y                0\n",
       "forma_envio_solicitacao_correio           0\n",
       "forma_envio_solicitacao_internet          0\n",
       "forma_envio_solicitacao_presencial        0\n",
       "sexo_F                                    0\n",
       "sexo_M                                    0\n",
       "sexo_N                                    0\n",
       "estado_onde_reside_CO                     0\n",
       "estado_onde_reside_NE                     0\n",
       "estado_onde_reside_NO                     0\n",
       "estado_onde_reside_SD                     0\n",
       "estado_onde_reside_SU                     0\n",
       "estado_onde_nasceu_CO                     0\n",
       "estado_onde_nasceu_NE                     0\n",
       "estado_onde_nasceu_NO                     0\n",
       "estado_onde_nasceu_SD                     0\n",
       "estado_onde_nasceu_SU                     0\n",
       "estado_onde_trabalha_CO                   0\n",
       "estado_onde_trabalha_NE                   0\n",
       "estado_onde_trabalha_NO                   0\n",
       "estado_onde_trabalha_SD                   0\n",
       "estado_onde_trabalha_SU                   0\n",
       "dtype: int64"
      ]
     },
     "execution_count": 65,
     "metadata": {},
     "output_type": "execute_result"
    }
   ],
   "source": [
    "dados_treino.isnull().sum()"
   ]
  },
  {
   "cell_type": "markdown",
   "id": "3721f41b",
   "metadata": {},
   "source": [
    "## Substituindo os dados faltantes"
   ]
  },
  {
   "cell_type": "markdown",
   "id": "675d32cf",
   "metadata": {},
   "source": [
    "A fim de simplificar as operações, substitui-se os dados faltantes das colunas não quantitativas pela mediana e os das colunas quantitativas pela média."
   ]
  },
  {
   "cell_type": "code",
   "execution_count": 66,
   "id": "43fc7f59",
   "metadata": {},
   "outputs": [],
   "source": [
    "# Substitui os dados NaN pela mediana ou média da coluna\n",
    "\n",
    "colunas_quantitativas = ['idade', 'meses_na_residencia']\n",
    "# as variáveis de renda não entram nessa lista pois a média colocaria um viés na realidade do universo das amostras\n",
    "\n",
    "for coluna in dados_treino.columns:\n",
    "    if coluna == 'inadimplente':\n",
    "        continue\n",
    "    elif coluna in colunas_quantitativas:\n",
    "        dados_teste[[coluna]] = dados_teste[[coluna]].fillna(dados_teste[coluna].mean())\n",
    "        dados_treino[[coluna]] = dados_treino[[coluna]].fillna(dados_treino[coluna].mean())\n",
    "    else:\n",
    "        dados_teste[[coluna]] = dados_teste[[coluna]].fillna(dados_teste[coluna].median())\n",
    "        dados_treino[[coluna]] = dados_treino[[coluna]].fillna(dados_treino[coluna].median())"
   ]
  },
  {
   "cell_type": "code",
   "execution_count": 67,
   "id": "02a5977f",
   "metadata": {},
   "outputs": [
    {
     "data": {
      "text/html": [
       "<div>\n",
       "<style scoped>\n",
       "    .dataframe tbody tr th:only-of-type {\n",
       "        vertical-align: middle;\n",
       "    }\n",
       "\n",
       "    .dataframe tbody tr th {\n",
       "        vertical-align: top;\n",
       "    }\n",
       "\n",
       "    .dataframe thead th {\n",
       "        text-align: right;\n",
       "    }\n",
       "</style>\n",
       "<table border=\"1\" class=\"dataframe\">\n",
       "  <thead>\n",
       "    <tr style=\"text-align: right;\">\n",
       "      <th></th>\n",
       "      <th>produto_solicitado</th>\n",
       "      <th>dia_vencimento</th>\n",
       "      <th>tipo_endereco</th>\n",
       "      <th>idade</th>\n",
       "      <th>estado_civil</th>\n",
       "      <th>qtde_dependentes</th>\n",
       "      <th>nacionalidade</th>\n",
       "      <th>codigo_area_telefone_residencial</th>\n",
       "      <th>tipo_residencia</th>\n",
       "      <th>meses_na_residencia</th>\n",
       "      <th>...</th>\n",
       "      <th>estado_onde_nasceu_CO</th>\n",
       "      <th>estado_onde_nasceu_NE</th>\n",
       "      <th>estado_onde_nasceu_NO</th>\n",
       "      <th>estado_onde_nasceu_SD</th>\n",
       "      <th>estado_onde_nasceu_SU</th>\n",
       "      <th>estado_onde_trabalha_CO</th>\n",
       "      <th>estado_onde_trabalha_NE</th>\n",
       "      <th>estado_onde_trabalha_NO</th>\n",
       "      <th>estado_onde_trabalha_SD</th>\n",
       "      <th>estado_onde_trabalha_SU</th>\n",
       "    </tr>\n",
       "  </thead>\n",
       "  <tbody>\n",
       "    <tr>\n",
       "      <th>0</th>\n",
       "      <td>1.0</td>\n",
       "      <td>10.0</td>\n",
       "      <td>1.0</td>\n",
       "      <td>85.0</td>\n",
       "      <td>2.0</td>\n",
       "      <td>0.0</td>\n",
       "      <td>1.0</td>\n",
       "      <td>107.0</td>\n",
       "      <td>1.0</td>\n",
       "      <td>12.0</td>\n",
       "      <td>...</td>\n",
       "      <td>0.0</td>\n",
       "      <td>1.0</td>\n",
       "      <td>0.0</td>\n",
       "      <td>0.0</td>\n",
       "      <td>0.0</td>\n",
       "      <td>0.0</td>\n",
       "      <td>0.0</td>\n",
       "      <td>0.0</td>\n",
       "      <td>0.0</td>\n",
       "      <td>0.0</td>\n",
       "    </tr>\n",
       "    <tr>\n",
       "      <th>1</th>\n",
       "      <td>1.0</td>\n",
       "      <td>25.0</td>\n",
       "      <td>1.0</td>\n",
       "      <td>38.0</td>\n",
       "      <td>1.0</td>\n",
       "      <td>0.0</td>\n",
       "      <td>1.0</td>\n",
       "      <td>91.0</td>\n",
       "      <td>1.0</td>\n",
       "      <td>5.0</td>\n",
       "      <td>...</td>\n",
       "      <td>0.0</td>\n",
       "      <td>1.0</td>\n",
       "      <td>0.0</td>\n",
       "      <td>0.0</td>\n",
       "      <td>0.0</td>\n",
       "      <td>0.0</td>\n",
       "      <td>0.0</td>\n",
       "      <td>0.0</td>\n",
       "      <td>0.0</td>\n",
       "      <td>0.0</td>\n",
       "    </tr>\n",
       "    <tr>\n",
       "      <th>2</th>\n",
       "      <td>1.0</td>\n",
       "      <td>20.0</td>\n",
       "      <td>1.0</td>\n",
       "      <td>37.0</td>\n",
       "      <td>2.0</td>\n",
       "      <td>0.0</td>\n",
       "      <td>1.0</td>\n",
       "      <td>90.0</td>\n",
       "      <td>5.0</td>\n",
       "      <td>1.0</td>\n",
       "      <td>...</td>\n",
       "      <td>0.0</td>\n",
       "      <td>1.0</td>\n",
       "      <td>0.0</td>\n",
       "      <td>0.0</td>\n",
       "      <td>0.0</td>\n",
       "      <td>0.0</td>\n",
       "      <td>0.0</td>\n",
       "      <td>0.0</td>\n",
       "      <td>0.0</td>\n",
       "      <td>0.0</td>\n",
       "    </tr>\n",
       "    <tr>\n",
       "      <th>3</th>\n",
       "      <td>1.0</td>\n",
       "      <td>20.0</td>\n",
       "      <td>1.0</td>\n",
       "      <td>37.0</td>\n",
       "      <td>1.0</td>\n",
       "      <td>1.0</td>\n",
       "      <td>1.0</td>\n",
       "      <td>54.0</td>\n",
       "      <td>1.0</td>\n",
       "      <td>1.0</td>\n",
       "      <td>...</td>\n",
       "      <td>0.0</td>\n",
       "      <td>0.0</td>\n",
       "      <td>0.0</td>\n",
       "      <td>0.0</td>\n",
       "      <td>1.0</td>\n",
       "      <td>0.0</td>\n",
       "      <td>0.0</td>\n",
       "      <td>0.0</td>\n",
       "      <td>0.0</td>\n",
       "      <td>1.0</td>\n",
       "    </tr>\n",
       "    <tr>\n",
       "      <th>4</th>\n",
       "      <td>7.0</td>\n",
       "      <td>1.0</td>\n",
       "      <td>1.0</td>\n",
       "      <td>51.0</td>\n",
       "      <td>1.0</td>\n",
       "      <td>0.0</td>\n",
       "      <td>1.0</td>\n",
       "      <td>86.0</td>\n",
       "      <td>0.0</td>\n",
       "      <td>1.0</td>\n",
       "      <td>...</td>\n",
       "      <td>0.0</td>\n",
       "      <td>1.0</td>\n",
       "      <td>0.0</td>\n",
       "      <td>0.0</td>\n",
       "      <td>0.0</td>\n",
       "      <td>0.0</td>\n",
       "      <td>1.0</td>\n",
       "      <td>0.0</td>\n",
       "      <td>0.0</td>\n",
       "      <td>0.0</td>\n",
       "    </tr>\n",
       "  </tbody>\n",
       "</table>\n",
       "<p>5 rows × 56 columns</p>\n",
       "</div>"
      ],
      "text/plain": [
       "   produto_solicitado  dia_vencimento  tipo_endereco  idade  estado_civil  \\\n",
       "0                 1.0            10.0            1.0   85.0           2.0   \n",
       "1                 1.0            25.0            1.0   38.0           1.0   \n",
       "2                 1.0            20.0            1.0   37.0           2.0   \n",
       "3                 1.0            20.0            1.0   37.0           1.0   \n",
       "4                 7.0             1.0            1.0   51.0           1.0   \n",
       "\n",
       "   qtde_dependentes  nacionalidade  codigo_area_telefone_residencial  \\\n",
       "0               0.0            1.0                             107.0   \n",
       "1               0.0            1.0                              91.0   \n",
       "2               0.0            1.0                              90.0   \n",
       "3               1.0            1.0                              54.0   \n",
       "4               0.0            1.0                              86.0   \n",
       "\n",
       "   tipo_residencia  meses_na_residencia  ...  estado_onde_nasceu_CO  \\\n",
       "0              1.0                 12.0  ...                    0.0   \n",
       "1              1.0                  5.0  ...                    0.0   \n",
       "2              5.0                  1.0  ...                    0.0   \n",
       "3              1.0                  1.0  ...                    0.0   \n",
       "4              0.0                  1.0  ...                    0.0   \n",
       "\n",
       "   estado_onde_nasceu_NE  estado_onde_nasceu_NO  estado_onde_nasceu_SD  \\\n",
       "0                    1.0                    0.0                    0.0   \n",
       "1                    1.0                    0.0                    0.0   \n",
       "2                    1.0                    0.0                    0.0   \n",
       "3                    0.0                    0.0                    0.0   \n",
       "4                    1.0                    0.0                    0.0   \n",
       "\n",
       "   estado_onde_nasceu_SU  estado_onde_trabalha_CO  estado_onde_trabalha_NE  \\\n",
       "0                    0.0                      0.0                      0.0   \n",
       "1                    0.0                      0.0                      0.0   \n",
       "2                    0.0                      0.0                      0.0   \n",
       "3                    1.0                      0.0                      0.0   \n",
       "4                    0.0                      0.0                      1.0   \n",
       "\n",
       "   estado_onde_trabalha_NO  estado_onde_trabalha_SD  estado_onde_trabalha_SU  \n",
       "0                      0.0                      0.0                      0.0  \n",
       "1                      0.0                      0.0                      0.0  \n",
       "2                      0.0                      0.0                      0.0  \n",
       "3                      0.0                      0.0                      1.0  \n",
       "4                      0.0                      0.0                      0.0  \n",
       "\n",
       "[5 rows x 56 columns]"
      ]
     },
     "execution_count": 67,
     "metadata": {},
     "output_type": "execute_result"
    }
   ],
   "source": [
    "dados_treino.head()"
   ]
  },
  {
   "cell_type": "markdown",
   "id": "f66c3de7",
   "metadata": {},
   "source": [
    "# Criando os modelos classificadores"
   ]
  },
  {
   "cell_type": "markdown",
   "id": "cbcba3bb",
   "metadata": {},
   "source": [
    "Neste ponto os dados estão todos em valor numérico com todas as colunas preenchidas. Pode-se, portanto, prosseguir para a criação do modelo preditivo."
   ]
  },
  {
   "cell_type": "markdown",
   "id": "90edad21",
   "metadata": {},
   "source": [
    "## Escolha de variáveis"
   ]
  },
  {
   "cell_type": "code",
   "execution_count": 68,
   "id": "c891716a",
   "metadata": {
    "scrolled": false
   },
   "outputs": [
    {
     "name": "stderr",
     "output_type": "stream",
     "text": [
      "C:\\Users\\assis\\AppData\\Local\\Programs\\Python\\Python310\\lib\\site-packages\\scipy\\stats\\_stats_py.py:4068: PearsonRConstantInputWarning: An input array is constant; the correlation coefficient is not defined.\n",
      "  warnings.warn(PearsonRConstantInputWarning())\n"
     ]
    },
    {
     "data": {
      "text/plain": [
       "{'produto_solicitado': 0.0301,\n",
       " 'dia_vencimento': 0.0803,\n",
       " 'tipo_endereco': 0.0044,\n",
       " 'idade': 0.1207,\n",
       " 'estado_civil': 0.0313,\n",
       " 'qtde_dependentes': 0.0088,\n",
       " 'nacionalidade': 0.0005,\n",
       " 'codigo_area_telefone_residencial': 0.0131,\n",
       " 'tipo_residencia': 0.0181,\n",
       " 'meses_na_residencia': 0.0323,\n",
       " 'possui_email': 0.0057,\n",
       " 'renda_mensal_regular': 0.0009,\n",
       " 'possui_cartao_visa': 0.0013,\n",
       " 'possui_cartao_mastercard': 0.02,\n",
       " 'possui_cartao_diners': 0.0025,\n",
       " 'possui_cartao_amex': 0.0011,\n",
       " 'possui_outros_cartoes': 0.0032,\n",
       " 'qtde_contas_bancarias': 0.0141,\n",
       " 'possui_carro': 0.0128,\n",
       " 'codigo_area_telefone_trabalho': 0.0084,\n",
       " 'profissao': 0.0126,\n",
       " 'ocupacao': 0.0386,\n",
       " 'profissao_companheiro': 0.0232,\n",
       " 'grau_instrucao_companheiro': 0.0228,\n",
       " 'local_onde_reside': 0.0189,\n",
       " 'local_onde_trabalha': 0.0189,\n",
       " 'inadimplente': 1.0,\n",
       " 'possui_telefone_residencial_N': 0.0808,\n",
       " 'possui_telefone_residencial_Y': 0.0808,\n",
       " 'vinculo_formal_com_empresa_N': 0.0062,\n",
       " 'vinculo_formal_com_empresa_Y': 0.0062,\n",
       " 'possui_telefone_trabalho_N': 0.016,\n",
       " 'possui_telefone_trabalho_Y': 0.016,\n",
       " 'forma_envio_solicitacao_correio': 0.0173,\n",
       " 'forma_envio_solicitacao_internet': 0.0063,\n",
       " 'forma_envio_solicitacao_presencial': 0.0136,\n",
       " 'sexo_F': 0.0298,\n",
       " 'sexo_M': 0.0294,\n",
       " 'sexo_N': 0.0014,\n",
       " 'estado_onde_reside_CO': 0.0162,\n",
       " 'estado_onde_reside_NE': 0.0322,\n",
       " 'estado_onde_reside_NO': 0.0098,\n",
       " 'estado_onde_reside_SD': 0.0073,\n",
       " 'estado_onde_reside_SU': 0.041,\n",
       " 'estado_onde_nasceu_CO': 0.0096,\n",
       " 'estado_onde_nasceu_NE': 0.019,\n",
       " 'estado_onde_nasceu_NO': 0.0092,\n",
       " 'estado_onde_nasceu_SD': 0.0013,\n",
       " 'estado_onde_nasceu_SU': 0.0397,\n",
       " 'estado_onde_trabalha_CO': 0.0149,\n",
       " 'estado_onde_trabalha_NE': 0.0358,\n",
       " 'estado_onde_trabalha_NO': 0.0042,\n",
       " 'estado_onde_trabalha_SD': 0.0064,\n",
       " 'estado_onde_trabalha_SU': 0.0075}"
      ]
     },
     "execution_count": 68,
     "metadata": {},
     "output_type": "execute_result"
    }
   ],
   "source": [
    "# calcula o coeficiente de Pearson para cada coluna em relação ao alvo\n",
    "pearson_coef = {}\n",
    "\n",
    "for coluna in dados_treino.columns:\n",
    "    coef = round(abs(pearsonr(dados_treino[coluna], dados_treino['inadimplente'])[0]),4)\n",
    "    if type(coef) not in [float, int] or coluna == 'inadimplente':\n",
    "        pearson_coef[coluna] = coef\n",
    "\n",
    "pearson_coef"
   ]
  },
  {
   "cell_type": "code",
   "execution_count": 69,
   "id": "c22e2eea",
   "metadata": {},
   "outputs": [],
   "source": [
    "from operator import itemgetter\n",
    "\n",
    "coef_ordenados = sorted(pearson_coef.items(), key=itemgetter(1))\n",
    "\n",
    "coef_ordenados = [[tupla[0], tupla[1]] for tupla in coef_ordenados]"
   ]
  },
  {
   "cell_type": "code",
   "execution_count": 70,
   "id": "c52aec4b",
   "metadata": {
    "scrolled": false
   },
   "outputs": [
    {
     "data": {
      "text/plain": [
       "[['nacionalidade', 0.0005],\n",
       " ['renda_mensal_regular', 0.0009],\n",
       " ['possui_cartao_amex', 0.0011],\n",
       " ['possui_cartao_visa', 0.0013],\n",
       " ['estado_onde_nasceu_SD', 0.0013],\n",
       " ['sexo_N', 0.0014],\n",
       " ['possui_cartao_diners', 0.0025],\n",
       " ['possui_outros_cartoes', 0.0032],\n",
       " ['estado_onde_trabalha_NO', 0.0042],\n",
       " ['tipo_endereco', 0.0044],\n",
       " ['possui_email', 0.0057],\n",
       " ['vinculo_formal_com_empresa_N', 0.0062],\n",
       " ['vinculo_formal_com_empresa_Y', 0.0062],\n",
       " ['forma_envio_solicitacao_internet', 0.0063],\n",
       " ['estado_onde_trabalha_SD', 0.0064],\n",
       " ['estado_onde_reside_SD', 0.0073],\n",
       " ['estado_onde_trabalha_SU', 0.0075],\n",
       " ['codigo_area_telefone_trabalho', 0.0084],\n",
       " ['qtde_dependentes', 0.0088],\n",
       " ['estado_onde_nasceu_NO', 0.0092],\n",
       " ['estado_onde_nasceu_CO', 0.0096],\n",
       " ['estado_onde_reside_NO', 0.0098],\n",
       " ['profissao', 0.0126],\n",
       " ['possui_carro', 0.0128],\n",
       " ['codigo_area_telefone_residencial', 0.0131],\n",
       " ['forma_envio_solicitacao_presencial', 0.0136],\n",
       " ['qtde_contas_bancarias', 0.0141],\n",
       " ['estado_onde_trabalha_CO', 0.0149],\n",
       " ['possui_telefone_trabalho_N', 0.016],\n",
       " ['possui_telefone_trabalho_Y', 0.016],\n",
       " ['estado_onde_reside_CO', 0.0162],\n",
       " ['forma_envio_solicitacao_correio', 0.0173],\n",
       " ['tipo_residencia', 0.0181],\n",
       " ['local_onde_reside', 0.0189],\n",
       " ['local_onde_trabalha', 0.0189],\n",
       " ['estado_onde_nasceu_NE', 0.019],\n",
       " ['possui_cartao_mastercard', 0.02],\n",
       " ['grau_instrucao_companheiro', 0.0228],\n",
       " ['profissao_companheiro', 0.0232],\n",
       " ['sexo_M', 0.0294],\n",
       " ['sexo_F', 0.0298],\n",
       " ['produto_solicitado', 0.0301],\n",
       " ['estado_civil', 0.0313],\n",
       " ['estado_onde_reside_NE', 0.0322],\n",
       " ['meses_na_residencia', 0.0323],\n",
       " ['estado_onde_trabalha_NE', 0.0358],\n",
       " ['ocupacao', 0.0386],\n",
       " ['estado_onde_nasceu_SU', 0.0397],\n",
       " ['estado_onde_reside_SU', 0.041],\n",
       " ['dia_vencimento', 0.0803],\n",
       " ['possui_telefone_residencial_N', 0.0808],\n",
       " ['possui_telefone_residencial_Y', 0.0808],\n",
       " ['idade', 0.1207],\n",
       " ['inadimplente', 1.0]]"
      ]
     },
     "execution_count": 70,
     "metadata": {},
     "output_type": "execute_result"
    }
   ],
   "source": [
    "coef_ordenados = sorted(coef_ordenados, key=itemgetter(1))\n",
    "coef_ordenados"
   ]
  },
  {
   "cell_type": "code",
   "execution_count": 71,
   "id": "a2be6776",
   "metadata": {},
   "outputs": [
    {
     "data": {
      "text/plain": [
       "['possui_carro',\n",
       " 'codigo_area_telefone_residencial',\n",
       " 'forma_envio_solicitacao_presencial',\n",
       " 'qtde_contas_bancarias',\n",
       " 'estado_onde_trabalha_CO',\n",
       " 'possui_telefone_trabalho_N',\n",
       " 'possui_telefone_trabalho_Y',\n",
       " 'estado_onde_reside_CO',\n",
       " 'forma_envio_solicitacao_correio',\n",
       " 'tipo_residencia',\n",
       " 'local_onde_reside',\n",
       " 'local_onde_trabalha',\n",
       " 'estado_onde_nasceu_NE',\n",
       " 'possui_cartao_mastercard',\n",
       " 'grau_instrucao_companheiro',\n",
       " 'profissao_companheiro',\n",
       " 'sexo_M',\n",
       " 'sexo_F',\n",
       " 'produto_solicitado',\n",
       " 'estado_civil',\n",
       " 'estado_onde_reside_NE',\n",
       " 'meses_na_residencia',\n",
       " 'estado_onde_trabalha_NE',\n",
       " 'ocupacao',\n",
       " 'estado_onde_nasceu_SU',\n",
       " 'estado_onde_reside_SU',\n",
       " 'dia_vencimento',\n",
       " 'possui_telefone_residencial_N',\n",
       " 'possui_telefone_residencial_Y',\n",
       " 'idade',\n",
       " 'inadimplente']"
      ]
     },
     "execution_count": 71,
     "metadata": {},
     "output_type": "execute_result"
    }
   ],
   "source": [
    "indice_aceitavel = 23 #18-retirada dos arquivos topx #13 - maior valor\n",
    "variaveis_escolhidas = []\n",
    "\n",
    "for item in coef_ordenados[indice_aceitavel:]:\n",
    "    variaveis_escolhidas.append(item[0])\n",
    "\n",
    "variaveis_escolhidas"
   ]
  },
  {
   "cell_type": "code",
   "execution_count": 72,
   "id": "95898b0b",
   "metadata": {},
   "outputs": [],
   "source": [
    "dados_treino = dados_treino[variaveis_escolhidas]\n",
    "dados_teste = dados_teste[variaveis_escolhidas[:-1]]"
   ]
  },
  {
   "cell_type": "markdown",
   "id": "d9d24c77",
   "metadata": {},
   "source": [
    "## Separação dos dados"
   ]
  },
  {
   "cell_type": "code",
   "execution_count": 73,
   "id": "7139d600",
   "metadata": {},
   "outputs": [],
   "source": [
    "#separacao do conjunto de treino em alvo e features e em subconjunto de teste e treino\n",
    "dados_treino = dados_treino.sample(frac=1, random_state=135)\n",
    "\n",
    "X = dados_treino.drop(columns=['inadimplente'])\n",
    "Y = dados_treino['inadimplente']\n",
    "\n",
    "# usados para metrificar o modelo final\n",
    "teste_sample = 0.85\n",
    "x_treino = X[:int(len(X)*teste_sample)]\n",
    "y_treino = Y[:int(len(X)*teste_sample)]\n",
    "\n",
    "x_teste = X[int(len(X)*teste_sample):]\n",
    "y_teste = Y[int(len(X)*teste_sample):]"
   ]
  },
  {
   "cell_type": "markdown",
   "id": "505d7c94",
   "metadata": {},
   "source": [
    "## Scaling dos dados"
   ]
  },
  {
   "cell_type": "code",
   "execution_count": 74,
   "id": "0815ae24",
   "metadata": {},
   "outputs": [],
   "source": [
    "# talvez escalar antes de separar\n",
    "standard_scaler =  StandardScaler() #MinMaxScaler()\n",
    "X = standard_scaler.fit_transform(X)\n",
    "dados_teste = standard_scaler.fit_transform(dados_teste)"
   ]
  },
  {
   "cell_type": "markdown",
   "id": "2d08cd9f",
   "metadata": {},
   "source": [
    "## Criando KNN"
   ]
  },
  {
   "cell_type": "code",
   "execution_count": 24,
   "id": "d21f7790",
   "metadata": {
    "scrolled": false
   },
   "outputs": [
    {
     "name": "stdout",
     "output_type": "stream",
     "text": [
      "  K   |    % \n",
      "70      56.905%\n",
      "75      57.01%\n",
      "80      56.6%\n",
      "85      56.955%\n",
      "90      56.84%\n",
      "95      56.87%\n"
     ]
    }
   ],
   "source": [
    "# Ajuste grosso de hiperparametro\n",
    "\n",
    "print(\"  K   |    % \")\n",
    "for numero_kneighbors in range(70, 100, 5):\n",
    "    classificadorKNN = KNeighborsClassifier(n_neighbors=numero_kneighbors, weights='uniform')\n",
    "\n",
    "    predicao = round(100*float(mean(cross_val_score(classificadorKNN, X, Y, cv=3))), 3)\n",
    "    \n",
    "    print(\"%d    \" %numero_kneighbors, end='')\n",
    "    print(f\"  {predicao}%\")"
   ]
  },
  {
   "cell_type": "markdown",
   "id": "1810ef40",
   "metadata": {},
   "source": [
    "## Criando Decison Tree"
   ]
  },
  {
   "cell_type": "code",
   "execution_count": 25,
   "id": "8cf380e6",
   "metadata": {},
   "outputs": [
    {
     "name": "stdout",
     "output_type": "stream",
     "text": [
      "  depth   |    %   \n",
      "5      57.415%\n",
      "6      57.18%\n",
      "7      57.19%\n",
      "8      56.64%\n",
      "9      56.74%\n"
     ]
    }
   ],
   "source": [
    "# Ajuste grosso de hiperparametro\n",
    "\n",
    "print(\"  depth   |    %   \")\n",
    "for deep in range(5, 10, 1):\n",
    "    classificadorDTC = DecisionTreeClassifier(criterion='gini', max_depth=deep, random_state=145)\n",
    "\n",
    "    predicao = round(100*float(mean(cross_val_score(classificadorDTC, X, Y, cv=3))), 3)\n",
    "    \n",
    "    print(\"%d    \" %deep, end='')\n",
    "    print(f\"  {predicao}%\")"
   ]
  },
  {
   "cell_type": "markdown",
   "id": "540720b5",
   "metadata": {},
   "source": [
    "## Criando SVM com Kernel"
   ]
  },
  {
   "cell_type": "code",
   "execution_count": 26,
   "id": "3d5e2a34",
   "metadata": {
    "scrolled": true
   },
   "outputs": [
    {
     "name": "stdout",
     "output_type": "stream",
     "text": [
      "  C   |     % \n",
      "-1.0      58.275%\n",
      "-0.8      58.37%\n",
      "-0.6      58.42%\n",
      "-0.4      58.455%\n",
      "-0.2      58.215%\n"
     ]
    }
   ],
   "source": [
    "# Ajuste de hiperparametro\n",
    "\n",
    "print(\"  C   |     % \")\n",
    "for c in np.arange(-1, 0, 0.2):\n",
    "    C = 10**c\n",
    "    classificadorSVM = SVC(kernel='rbf', C=C, gamma='auto')\n",
    "\n",
    "    predicao = round(100*float(mean(cross_val_score(classificadorSVM, X, Y, cv=3))), 3)\n",
    "    \n",
    "    print(\"%0.1f    \" %c, end='')\n",
    "    print(f\"  {predicao}%\")"
   ]
  },
  {
   "cell_type": "markdown",
   "id": "22e0360d",
   "metadata": {},
   "source": [
    "## Criando Logistic Regression"
   ]
  },
  {
   "cell_type": "code",
   "execution_count": 27,
   "id": "b27c1c0d",
   "metadata": {
    "scrolled": true
   },
   "outputs": [
    {
     "name": "stdout",
     "output_type": "stream",
     "text": [
      "  C   |   %  \n",
      "-4      58.09%\n",
      "-3      58.055%\n",
      "-2      58.255%\n",
      "-1      58.27%\n",
      "0      58.275%\n",
      "1      58.275%\n",
      "2      58.275%\n"
     ]
    }
   ],
   "source": [
    "# Ajuste de hiperparametro\n",
    "\n",
    "print(\"  C   |   %  \")\n",
    "for expo in range(-4, 3, 1):\n",
    "    C = 10**expo\n",
    "    classificadorLRC = LogisticRegression(penalty='l2', C=C, max_iter=100000)\n",
    "    \n",
    "    predicao = round(100*float(mean(cross_val_score(classificadorLRC, X, Y, cv=3))), 3)\n",
    "    \n",
    "    print(\"%d    \" %expo, end='')\n",
    "    print(f\"  {predicao}%\")"
   ]
  },
  {
   "cell_type": "markdown",
   "id": "403a47e1",
   "metadata": {},
   "source": [
    "## Criando Random Forest"
   ]
  },
  {
   "cell_type": "code",
   "execution_count": 28,
   "id": "79004537",
   "metadata": {},
   "outputs": [
    {
     "name": "stdout",
     "output_type": "stream",
     "text": [
      "  N   |   %  \n",
      "60      59.14%\n",
      "62      58.95%\n",
      "64      59.335%\n",
      "66      59.015%\n",
      "68      59.08%\n",
      "70      59.06%\n"
     ]
    }
   ],
   "source": [
    "# Ajuste de hiperparametro\n",
    "\n",
    "print(\"  N   |   %  \")\n",
    "for numero in range(60, 72, 2):\n",
    "    classificadorRFC = RandomForestClassifier(max_depth=10, n_estimators=numero)\n",
    "    \n",
    "    predicao = round(100*float(mean(cross_val_score(classificadorRFC, X, Y, cv=3))), 3)\n",
    "    \n",
    "    print(\"%d    \" %numero, end='')\n",
    "    print(f\"  {predicao}%\")"
   ]
  },
  {
   "cell_type": "markdown",
   "id": "ee775ff6",
   "metadata": {},
   "source": [
    "## Criando o One vs. All"
   ]
  },
  {
   "cell_type": "code",
   "execution_count": 82,
   "id": "d1ee2e53",
   "metadata": {},
   "outputs": [],
   "source": [
    "class OneVsAll():\n",
    "    def __init__(self):\n",
    "        self.KNN = KNeighborsClassifier(n_neighbors=82, weights='uniform')\n",
    "        self.SVM = SVC(kernel='rbf', C=10**-0.6)\n",
    "        self.LRC = LogisticRegression(penalty='l2', C=10**-2, max_iter=100000)\n",
    "        self.RFC = RandomForestClassifier(max_depth=10, n_estimators=64)\n",
    "        self.DTC = DecisionTreeClassifier(criterion='gini', max_depth=4, random_state=145)\n",
    "        self.modelos = [self.KNN, self.SVM, self.LRC, self.RFC, self.DTC] #[self.RFC] #[self.SVM, self.LRC, self.RFC]#\n",
    "    def fit_trinca(self, X, Y):\n",
    "        for indice, modelo in enumerate(self.modelos):\n",
    "            self.modelos[indice] = modelo.fit(X, Y)\n",
    "    def predict_trinca(self, X):\n",
    "        predicao_modelos = [modelo.predict(X) for modelo in self.modelos]\n",
    "        \n",
    "        #return [median([predicao_modelos[0][indice]]) for indice in range(len(X))]\n",
    "        #return [median([predicao_modelos[0][indice], predicao_modelos[1][indice], predicao_modelos[2][indice]]) for indice in range(len(X))]\n",
    "        return [median([predicao_modelos[0][indice], predicao_modelos[1][indice], predicao_modelos[2][indice], \\\n",
    "                        predicao_modelos[3][indice], predicao_modelos[4][indice]]) for indice in range(len(X))]"
   ]
  },
  {
   "cell_type": "code",
   "execution_count": 83,
   "id": "a56d3c1c",
   "metadata": {},
   "outputs": [],
   "source": [
    "classificador = OneVsAll()"
   ]
  },
  {
   "cell_type": "markdown",
   "id": "531bfa67",
   "metadata": {},
   "source": [
    "# Avaliação do modelo"
   ]
  },
  {
   "cell_type": "code",
   "execution_count": 84,
   "id": "a789b4f1",
   "metadata": {},
   "outputs": [],
   "source": [
    "classificador.fit_trinca(x_treino, y_treino)\n",
    "y_one_vs_all_teste = classificador.predict_trinca(x_teste)\n",
    "y_one_vs_all_treino = classificador.predict_trinca(x_treino)"
   ]
  },
  {
   "cell_type": "code",
   "execution_count": 85,
   "id": "22d1ac0d",
   "metadata": {},
   "outputs": [
    {
     "name": "stdout",
     "output_type": "stream",
     "text": [
      "  TESTE  |  TREINO\n",
      "  59.533     63.435\n"
     ]
    }
   ],
   "source": [
    "print(\"  TESTE  |  TREINO\")\n",
    "print(f\"  {round(100*sum(y_one_vs_all_teste==y_teste)/len(y_teste), 3)}     \", end='')\n",
    "print(round(100*sum(y_one_vs_all_treino==y_treino)/len(y_treino), 3))"
   ]
  },
  {
   "cell_type": "markdown",
   "id": "a9bae6e1",
   "metadata": {},
   "source": [
    "# Geração do arquivo de respostas"
   ]
  },
  {
   "cell_type": "code",
   "execution_count": 86,
   "id": "52f6bc2e",
   "metadata": {},
   "outputs": [],
   "source": [
    "classificador.fit_trinca(X, Y)\n",
    "\n",
    "x_resposta = dados_teste\n",
    "y_resposta = classificador.predict_trinca(x_resposta)\n",
    "y_resposta = list(map(int, y_resposta))"
   ]
  },
  {
   "cell_type": "code",
   "execution_count": 87,
   "id": "23286f88",
   "metadata": {},
   "outputs": [],
   "source": [
    "id_solicitante = [x+20001 for x in range(5000)]\n",
    "\n",
    "dados_resposta = pd.DataFrame(list(zip(id_solicitante, y_resposta)), columns=['id_solicitante', 'inadimplente'])"
   ]
  },
  {
   "cell_type": "code",
   "execution_count": 88,
   "id": "05106768",
   "metadata": {},
   "outputs": [],
   "source": [
    "dados_resposta.to_csv(\"arquivo_resposta.csv\", index=False)"
   ]
  }
 ],
 "metadata": {
  "kernelspec": {
   "display_name": "Python 3 (ipykernel)",
   "language": "python",
   "name": "python3"
  },
  "language_info": {
   "codemirror_mode": {
    "name": "ipython",
    "version": 3
   },
   "file_extension": ".py",
   "mimetype": "text/x-python",
   "name": "python",
   "nbconvert_exporter": "python",
   "pygments_lexer": "ipython3",
   "version": "3.10.2"
  }
 },
 "nbformat": 4,
 "nbformat_minor": 5
}
