{
 "cells": [
  {
   "cell_type": "code",
   "execution_count": 1,
   "id": "4b65313d",
   "metadata": {},
   "outputs": [],
   "source": [
    "# Importação das bibliotecas usadas no desenvolvimento do projeto\n",
    "import pandas as pd\n",
    "from sklearn.preprocessing import StandardScaler, MinMaxScaler\n",
    "from sklearn.neighbors import KNeighborsClassifier\n",
    "from scipy.stats import pearsonr\n",
    "import matplotlib.pyplot as plt\n",
    "import numpy as np\n",
    "from sklearn.model_selection import cross_val_score\n",
    "from sklearn.feature_selection import SelectKBest, chi2\n",
    "from statistics import mean"
   ]
  },
  {
   "cell_type": "code",
   "execution_count": 2,
   "id": "8418260b",
   "metadata": {},
   "outputs": [],
   "source": [
    "# Importação dos conjutos de amostras\n",
    "dados_treino = pd.read_csv(\"conjunto_de_treinamento.csv\", delimiter=\",\", decimal=\".\")\n",
    "dados_teste = pd.read_csv(\"conjunto_de_teste.csv\", delimiter=\",\", decimal=\".\")"
   ]
  },
  {
   "cell_type": "code",
   "execution_count": 3,
   "id": "447ee0e9",
   "metadata": {},
   "outputs": [
    {
     "data": {
      "text/html": [
       "<div>\n",
       "<style scoped>\n",
       "    .dataframe tbody tr th:only-of-type {\n",
       "        vertical-align: middle;\n",
       "    }\n",
       "\n",
       "    .dataframe tbody tr th {\n",
       "        vertical-align: top;\n",
       "    }\n",
       "\n",
       "    .dataframe thead th {\n",
       "        text-align: right;\n",
       "    }\n",
       "</style>\n",
       "<table border=\"1\" class=\"dataframe\">\n",
       "  <thead>\n",
       "    <tr style=\"text-align: right;\">\n",
       "      <th></th>\n",
       "      <th>id_solicitante</th>\n",
       "      <th>produto_solicitado</th>\n",
       "      <th>dia_vencimento</th>\n",
       "      <th>forma_envio_solicitacao</th>\n",
       "      <th>tipo_endereco</th>\n",
       "      <th>sexo</th>\n",
       "      <th>idade</th>\n",
       "      <th>estado_civil</th>\n",
       "      <th>qtde_dependentes</th>\n",
       "      <th>grau_instrucao</th>\n",
       "      <th>...</th>\n",
       "      <th>estado_onde_trabalha</th>\n",
       "      <th>possui_telefone_trabalho</th>\n",
       "      <th>codigo_area_telefone_trabalho</th>\n",
       "      <th>meses_no_trabalho</th>\n",
       "      <th>profissao</th>\n",
       "      <th>ocupacao</th>\n",
       "      <th>profissao_companheiro</th>\n",
       "      <th>grau_instrucao_companheiro</th>\n",
       "      <th>local_onde_reside</th>\n",
       "      <th>local_onde_trabalha</th>\n",
       "    </tr>\n",
       "  </thead>\n",
       "  <tbody>\n",
       "    <tr>\n",
       "      <th>0</th>\n",
       "      <td>20001</td>\n",
       "      <td>1</td>\n",
       "      <td>25</td>\n",
       "      <td>presencial</td>\n",
       "      <td>1</td>\n",
       "      <td>M</td>\n",
       "      <td>37</td>\n",
       "      <td>2</td>\n",
       "      <td>0</td>\n",
       "      <td>0</td>\n",
       "      <td>...</td>\n",
       "      <td></td>\n",
       "      <td>N</td>\n",
       "      <td></td>\n",
       "      <td>0</td>\n",
       "      <td>0.0</td>\n",
       "      <td>0.0</td>\n",
       "      <td>0.0</td>\n",
       "      <td>0.0</td>\n",
       "      <td>384.0</td>\n",
       "      <td>384.0</td>\n",
       "    </tr>\n",
       "    <tr>\n",
       "      <th>1</th>\n",
       "      <td>20002</td>\n",
       "      <td>1</td>\n",
       "      <td>10</td>\n",
       "      <td>internet</td>\n",
       "      <td>1</td>\n",
       "      <td>F</td>\n",
       "      <td>31</td>\n",
       "      <td>2</td>\n",
       "      <td>0</td>\n",
       "      <td>0</td>\n",
       "      <td>...</td>\n",
       "      <td>RJ</td>\n",
       "      <td>N</td>\n",
       "      <td></td>\n",
       "      <td>0</td>\n",
       "      <td>9.0</td>\n",
       "      <td>5.0</td>\n",
       "      <td>NaN</td>\n",
       "      <td>NaN</td>\n",
       "      <td>275.0</td>\n",
       "      <td>275.0</td>\n",
       "    </tr>\n",
       "    <tr>\n",
       "      <th>2</th>\n",
       "      <td>20003</td>\n",
       "      <td>1</td>\n",
       "      <td>10</td>\n",
       "      <td>internet</td>\n",
       "      <td>1</td>\n",
       "      <td>F</td>\n",
       "      <td>18</td>\n",
       "      <td>2</td>\n",
       "      <td>0</td>\n",
       "      <td>0</td>\n",
       "      <td>...</td>\n",
       "      <td>RS</td>\n",
       "      <td>N</td>\n",
       "      <td></td>\n",
       "      <td>0</td>\n",
       "      <td>9.0</td>\n",
       "      <td>2.0</td>\n",
       "      <td>NaN</td>\n",
       "      <td>NaN</td>\n",
       "      <td>948.0</td>\n",
       "      <td>948.0</td>\n",
       "    </tr>\n",
       "    <tr>\n",
       "      <th>3</th>\n",
       "      <td>20004</td>\n",
       "      <td>1</td>\n",
       "      <td>10</td>\n",
       "      <td>presencial</td>\n",
       "      <td>1</td>\n",
       "      <td>F</td>\n",
       "      <td>55</td>\n",
       "      <td>2</td>\n",
       "      <td>0</td>\n",
       "      <td>0</td>\n",
       "      <td>...</td>\n",
       "      <td></td>\n",
       "      <td>N</td>\n",
       "      <td></td>\n",
       "      <td>0</td>\n",
       "      <td>9.0</td>\n",
       "      <td>1.0</td>\n",
       "      <td>0.0</td>\n",
       "      <td>0.0</td>\n",
       "      <td>581.0</td>\n",
       "      <td>581.0</td>\n",
       "    </tr>\n",
       "    <tr>\n",
       "      <th>4</th>\n",
       "      <td>20005</td>\n",
       "      <td>1</td>\n",
       "      <td>10</td>\n",
       "      <td>presencial</td>\n",
       "      <td>1</td>\n",
       "      <td>F</td>\n",
       "      <td>55</td>\n",
       "      <td>1</td>\n",
       "      <td>0</td>\n",
       "      <td>0</td>\n",
       "      <td>...</td>\n",
       "      <td></td>\n",
       "      <td>N</td>\n",
       "      <td></td>\n",
       "      <td>0</td>\n",
       "      <td>0.0</td>\n",
       "      <td>1.0</td>\n",
       "      <td>0.0</td>\n",
       "      <td>0.0</td>\n",
       "      <td>573.0</td>\n",
       "      <td>573.0</td>\n",
       "    </tr>\n",
       "  </tbody>\n",
       "</table>\n",
       "<p>5 rows × 41 columns</p>\n",
       "</div>"
      ],
      "text/plain": [
       "   id_solicitante  produto_solicitado  dia_vencimento forma_envio_solicitacao  \\\n",
       "0           20001                   1              25              presencial   \n",
       "1           20002                   1              10                internet   \n",
       "2           20003                   1              10                internet   \n",
       "3           20004                   1              10              presencial   \n",
       "4           20005                   1              10              presencial   \n",
       "\n",
       "   tipo_endereco sexo  idade  estado_civil  qtde_dependentes  grau_instrucao  \\\n",
       "0              1    M     37             2                 0               0   \n",
       "1              1    F     31             2                 0               0   \n",
       "2              1    F     18             2                 0               0   \n",
       "3              1    F     55             2                 0               0   \n",
       "4              1    F     55             1                 0               0   \n",
       "\n",
       "   ...  estado_onde_trabalha possui_telefone_trabalho  \\\n",
       "0  ...                                              N   \n",
       "1  ...                    RJ                        N   \n",
       "2  ...                    RS                        N   \n",
       "3  ...                                              N   \n",
       "4  ...                                              N   \n",
       "\n",
       "  codigo_area_telefone_trabalho meses_no_trabalho profissao  ocupacao  \\\n",
       "0                                               0       0.0       0.0   \n",
       "1                                               0       9.0       5.0   \n",
       "2                                               0       9.0       2.0   \n",
       "3                                               0       9.0       1.0   \n",
       "4                                               0       0.0       1.0   \n",
       "\n",
       "   profissao_companheiro grau_instrucao_companheiro  local_onde_reside  \\\n",
       "0                    0.0                        0.0              384.0   \n",
       "1                    NaN                        NaN              275.0   \n",
       "2                    NaN                        NaN              948.0   \n",
       "3                    0.0                        0.0              581.0   \n",
       "4                    0.0                        0.0              573.0   \n",
       "\n",
       "   local_onde_trabalha  \n",
       "0                384.0  \n",
       "1                275.0  \n",
       "2                948.0  \n",
       "3                581.0  \n",
       "4                573.0  \n",
       "\n",
       "[5 rows x 41 columns]"
      ]
     },
     "execution_count": 3,
     "metadata": {},
     "output_type": "execute_result"
    }
   ],
   "source": [
    "dados_teste.head()"
   ]
  },
  {
   "cell_type": "code",
   "execution_count": 4,
   "id": "cf157f1d",
   "metadata": {},
   "outputs": [
    {
     "data": {
      "text/html": [
       "<div>\n",
       "<style scoped>\n",
       "    .dataframe tbody tr th:only-of-type {\n",
       "        vertical-align: middle;\n",
       "    }\n",
       "\n",
       "    .dataframe tbody tr th {\n",
       "        vertical-align: top;\n",
       "    }\n",
       "\n",
       "    .dataframe thead th {\n",
       "        text-align: right;\n",
       "    }\n",
       "</style>\n",
       "<table border=\"1\" class=\"dataframe\">\n",
       "  <thead>\n",
       "    <tr style=\"text-align: right;\">\n",
       "      <th></th>\n",
       "      <th>id_solicitante</th>\n",
       "      <th>produto_solicitado</th>\n",
       "      <th>dia_vencimento</th>\n",
       "      <th>forma_envio_solicitacao</th>\n",
       "      <th>tipo_endereco</th>\n",
       "      <th>sexo</th>\n",
       "      <th>idade</th>\n",
       "      <th>estado_civil</th>\n",
       "      <th>qtde_dependentes</th>\n",
       "      <th>grau_instrucao</th>\n",
       "      <th>...</th>\n",
       "      <th>possui_telefone_trabalho</th>\n",
       "      <th>codigo_area_telefone_trabalho</th>\n",
       "      <th>meses_no_trabalho</th>\n",
       "      <th>profissao</th>\n",
       "      <th>ocupacao</th>\n",
       "      <th>profissao_companheiro</th>\n",
       "      <th>grau_instrucao_companheiro</th>\n",
       "      <th>local_onde_reside</th>\n",
       "      <th>local_onde_trabalha</th>\n",
       "      <th>inadimplente</th>\n",
       "    </tr>\n",
       "  </thead>\n",
       "  <tbody>\n",
       "    <tr>\n",
       "      <th>0</th>\n",
       "      <td>1</td>\n",
       "      <td>1</td>\n",
       "      <td>10</td>\n",
       "      <td>presencial</td>\n",
       "      <td>1</td>\n",
       "      <td>M</td>\n",
       "      <td>85</td>\n",
       "      <td>2</td>\n",
       "      <td>0</td>\n",
       "      <td>0</td>\n",
       "      <td>...</td>\n",
       "      <td>N</td>\n",
       "      <td></td>\n",
       "      <td>0</td>\n",
       "      <td>9.0</td>\n",
       "      <td>1.0</td>\n",
       "      <td>0.0</td>\n",
       "      <td>0.0</td>\n",
       "      <td>600.0</td>\n",
       "      <td>600.0</td>\n",
       "      <td>0</td>\n",
       "    </tr>\n",
       "    <tr>\n",
       "      <th>1</th>\n",
       "      <td>2</td>\n",
       "      <td>1</td>\n",
       "      <td>25</td>\n",
       "      <td>internet</td>\n",
       "      <td>1</td>\n",
       "      <td>F</td>\n",
       "      <td>38</td>\n",
       "      <td>1</td>\n",
       "      <td>0</td>\n",
       "      <td>0</td>\n",
       "      <td>...</td>\n",
       "      <td>N</td>\n",
       "      <td></td>\n",
       "      <td>0</td>\n",
       "      <td>2.0</td>\n",
       "      <td>5.0</td>\n",
       "      <td>NaN</td>\n",
       "      <td>NaN</td>\n",
       "      <td>492.0</td>\n",
       "      <td>492.0</td>\n",
       "      <td>0</td>\n",
       "    </tr>\n",
       "    <tr>\n",
       "      <th>2</th>\n",
       "      <td>3</td>\n",
       "      <td>1</td>\n",
       "      <td>20</td>\n",
       "      <td>internet</td>\n",
       "      <td>1</td>\n",
       "      <td>F</td>\n",
       "      <td>37</td>\n",
       "      <td>2</td>\n",
       "      <td>0</td>\n",
       "      <td>0</td>\n",
       "      <td>...</td>\n",
       "      <td>N</td>\n",
       "      <td></td>\n",
       "      <td>0</td>\n",
       "      <td>NaN</td>\n",
       "      <td>NaN</td>\n",
       "      <td>NaN</td>\n",
       "      <td>NaN</td>\n",
       "      <td>450.0</td>\n",
       "      <td>450.0</td>\n",
       "      <td>1</td>\n",
       "    </tr>\n",
       "    <tr>\n",
       "      <th>3</th>\n",
       "      <td>4</td>\n",
       "      <td>1</td>\n",
       "      <td>20</td>\n",
       "      <td>internet</td>\n",
       "      <td>1</td>\n",
       "      <td>M</td>\n",
       "      <td>37</td>\n",
       "      <td>1</td>\n",
       "      <td>1</td>\n",
       "      <td>0</td>\n",
       "      <td>...</td>\n",
       "      <td>Y</td>\n",
       "      <td>54</td>\n",
       "      <td>0</td>\n",
       "      <td>9.0</td>\n",
       "      <td>2.0</td>\n",
       "      <td>NaN</td>\n",
       "      <td>NaN</td>\n",
       "      <td>932.0</td>\n",
       "      <td>932.0</td>\n",
       "      <td>1</td>\n",
       "    </tr>\n",
       "    <tr>\n",
       "      <th>4</th>\n",
       "      <td>5</td>\n",
       "      <td>7</td>\n",
       "      <td>1</td>\n",
       "      <td>internet</td>\n",
       "      <td>1</td>\n",
       "      <td>F</td>\n",
       "      <td>51</td>\n",
       "      <td>1</td>\n",
       "      <td>3</td>\n",
       "      <td>0</td>\n",
       "      <td>...</td>\n",
       "      <td>N</td>\n",
       "      <td></td>\n",
       "      <td>0</td>\n",
       "      <td>9.0</td>\n",
       "      <td>5.0</td>\n",
       "      <td>NaN</td>\n",
       "      <td>NaN</td>\n",
       "      <td>440.0</td>\n",
       "      <td>440.0</td>\n",
       "      <td>1</td>\n",
       "    </tr>\n",
       "  </tbody>\n",
       "</table>\n",
       "<p>5 rows × 42 columns</p>\n",
       "</div>"
      ],
      "text/plain": [
       "   id_solicitante  produto_solicitado  dia_vencimento forma_envio_solicitacao  \\\n",
       "0               1                   1              10              presencial   \n",
       "1               2                   1              25                internet   \n",
       "2               3                   1              20                internet   \n",
       "3               4                   1              20                internet   \n",
       "4               5                   7               1                internet   \n",
       "\n",
       "   tipo_endereco sexo  idade  estado_civil  qtde_dependentes  grau_instrucao  \\\n",
       "0              1    M     85             2                 0               0   \n",
       "1              1    F     38             1                 0               0   \n",
       "2              1    F     37             2                 0               0   \n",
       "3              1    M     37             1                 1               0   \n",
       "4              1    F     51             1                 3               0   \n",
       "\n",
       "   ...  possui_telefone_trabalho codigo_area_telefone_trabalho  \\\n",
       "0  ...                         N                                 \n",
       "1  ...                         N                                 \n",
       "2  ...                         N                                 \n",
       "3  ...                         Y                            54   \n",
       "4  ...                         N                                 \n",
       "\n",
       "  meses_no_trabalho profissao ocupacao  profissao_companheiro  \\\n",
       "0                 0       9.0      1.0                    0.0   \n",
       "1                 0       2.0      5.0                    NaN   \n",
       "2                 0       NaN      NaN                    NaN   \n",
       "3                 0       9.0      2.0                    NaN   \n",
       "4                 0       9.0      5.0                    NaN   \n",
       "\n",
       "   grau_instrucao_companheiro local_onde_reside  local_onde_trabalha  \\\n",
       "0                         0.0             600.0                600.0   \n",
       "1                         NaN             492.0                492.0   \n",
       "2                         NaN             450.0                450.0   \n",
       "3                         NaN             932.0                932.0   \n",
       "4                         NaN             440.0                440.0   \n",
       "\n",
       "   inadimplente  \n",
       "0             0  \n",
       "1             0  \n",
       "2             1  \n",
       "3             1  \n",
       "4             1  \n",
       "\n",
       "[5 rows x 42 columns]"
      ]
     },
     "execution_count": 4,
     "metadata": {},
     "output_type": "execute_result"
    }
   ],
   "source": [
    "dados_treino.head()"
   ]
  },
  {
   "cell_type": "markdown",
   "id": "503a6aeb",
   "metadata": {},
   "source": [
    "# Verificação de Outliers"
   ]
  },
  {
   "cell_type": "markdown",
   "id": "37dc60b7",
   "metadata": {},
   "source": [
    "Após gerar os gráficos de todas as colunas do datasets, percebeu-se que existe um outlier que possui 53 dependentes cadastrados. As demais variáveis não apresentam outliers visíveis, apenas desvios padrões que podem estar dentro de uma realidade."
   ]
  },
  {
   "cell_type": "code",
   "execution_count": 5,
   "id": "4db03a22",
   "metadata": {
    "scrolled": true
   },
   "outputs": [],
   "source": [
    "#for coluna in dados_treino.columns:\n",
    "#     ax1 = dados_treino.plot.scatter(x=coluna, y='inadimplente')\n",
    "\n",
    "dados_treino[dados_treino['qtde_dependentes'] > 15] #printa o outlier\n",
    "dados_treino = dados_treino.drop(8489)"
   ]
  },
  {
   "cell_type": "markdown",
   "id": "88c50ce0",
   "metadata": {},
   "source": [
    "# Tratamento de dados"
   ]
  },
  {
   "cell_type": "markdown",
   "id": "b20c043d",
   "metadata": {},
   "source": [
    "## Lidando com os NaN"
   ]
  },
  {
   "cell_type": "markdown",
   "id": "7e685c56",
   "metadata": {},
   "source": [
    "Como é possível observar nas 5 primeiras linhas dos dados de treino e teste, existem dados faltantes \"NaN\". Dado isto, quantifica-se a perda de dados ao simplesmente eliminar as linhas com NaN."
   ]
  },
  {
   "cell_type": "code",
   "execution_count": 6,
   "id": "b407bfb3",
   "metadata": {},
   "outputs": [
    {
     "name": "stdout",
     "output_type": "stream",
     "text": [
      "Perda de 65.12% dos dados de treino ao retirar linhas com informações faltantes.\n"
     ]
    }
   ],
   "source": [
    "linha_treino_com_na = dados_treino.shape[0]\n",
    "linha_treino_sem_na = dados_treino.dropna().shape[0]\n",
    "\n",
    "print(\"Perda de %0.2f%% dos dados de treino ao retirar linhas com informações faltantes.\" %(100 - linha_treino_sem_na*100/linha_treino_com_na))"
   ]
  },
  {
   "cell_type": "markdown",
   "id": "47a6d345",
   "metadata": {},
   "source": [
    "A perda de 65.12% do dataset é algo péssimo para o modelo pois perde grande parte da representação do universo. Para prosseguir sem perder essas amostras, optou-se por substituir os NaN de forma a manter a característica das distribuições.\n",
    "\n",
    "Para fazer essas substituições, primeiro faz-se o tratamento dos dados nos datasets de treino e teste. A seguir seguem as modificaçãoes feitas sobre os dados."
   ]
  },
  {
   "cell_type": "markdown",
   "id": "f13cae96",
   "metadata": {},
   "source": [
    "## Conversão dos dados e remoção de colunas"
   ]
  },
  {
   "cell_type": "markdown",
   "id": "8fc24e46",
   "metadata": {},
   "source": [
    "Primeiramente faz-se a análise do arquivo \"dicionario_de_dados.xlsx\" e segue-se as recomendações para remover as colunas com erro de preenchimento e colunas que visivelmente agregam pouco valor (por ter alta correlação com outra coluna. Ex. colunas de estados onde trabalha, habita e nasceu)."
   ]
  },
  {
   "cell_type": "code",
   "execution_count": 7,
   "id": "818b9347",
   "metadata": {},
   "outputs": [],
   "source": [
    "# forma_envio_solicitacao -> Abrir em 3 colunas (internet, correio e presencial)\n",
    "# sexo -> Abrir em 3 colunas (masculino, feminino, nao informado). Se vazio colocar N\n",
    "# grau_instrucao -> Remover\n",
    "# estado_onde_nasceu -> Remover, possui alta correlação  com \"estado_onde_reside\"\n",
    "# estado_onde_reside -> Transformar em regiões do país\n",
    "# possui_telefone_residencial -> Transformar em 1 - Sim 0 - Nao\n",
    "# possui_telefone_celular ->  Remover\n",
    "# qtde_contas_bancarias_especiais -> Remover\n",
    "# vinculo_formal_com_empresa -> Transformar em 1 - Sim 0 - Nao\n",
    "# estado_onde_trabalha -> Inútil, apenas 0.2% está preenchido\n",
    "# possui_telefone_trabalho -> Transformar em 1 - Sim 0 - Nao\n",
    "# meses_no_trabalho -> Remover\n",
    "\n",
    "# deleta as colunas desnecessárias/com dados corrompidos\n",
    "dados_treino = dados_treino.drop(columns=['id_solicitante', 'grau_instrucao', 'possui_telefone_celular',\\\n",
    "                                          'qtde_contas_bancarias_especiais', 'meses_no_trabalho', 'estado_onde_trabalha',\\\n",
    "                                         'codigo_area_telefone_trabalho', 'codigo_area_telefone_residencial', 'estado_onde_nasceu'])\n",
    "dados_teste = dados_teste.drop(columns=['id_solicitante', 'grau_instrucao', 'possui_telefone_celular',\\\n",
    "                                          'qtde_contas_bancarias_especiais', 'meses_no_trabalho', 'estado_onde_trabalha',\\\n",
    "                                         'codigo_area_telefone_trabalho', 'codigo_area_telefone_residencial', 'estado_onde_nasceu'])"
   ]
  },
  {
   "cell_type": "code",
   "execution_count": 8,
   "id": "4cb379ee",
   "metadata": {},
   "outputs": [],
   "source": [
    "# splita as colunas na lista \"valores_a_trocar\" em uma coluna para cada opção dentre as possíveis\n",
    "# caso o valor de uma linha da coluna sexo seja NaN, troca por N - Não informado\n",
    "valores = {'sexo':'N'}\n",
    "\n",
    "valores_a_trocar = ['possui_telefone_residencial', 'vinculo_formal_com_empresa', 'possui_telefone_trabalho', 'forma_envio_solicitacao', 'sexo']\n",
    "\n",
    "dados_treino = dados_treino.fillna(value=valores)\n",
    "dados_teste = dados_teste.fillna(value=valores)\n",
    "\n",
    "dados_treino = pd.get_dummies(dados_treino, columns=valores_a_trocar)\n",
    "dados_teste = pd.get_dummies(dados_teste, columns=valores_a_trocar)\n",
    "\n",
    "# drop necessário para tirar uma coluna de bug\n",
    "dados_treino = dados_treino.drop(columns=['sexo_ '])\n",
    "dados_teste = dados_teste.drop(columns=['sexo_ '])"
   ]
  },
  {
   "cell_type": "code",
   "execution_count": 9,
   "id": "caadf4d5",
   "metadata": {},
   "outputs": [],
   "source": [
    "# Troca os estados das colunas na lista abaixo pela região do estado e faz o get_dummie da coluna\n",
    "valores_a_trocar = ['estado_onde_reside']\n",
    "\n",
    "dicionario = {'AC':'NO', 'AP':'NO', 'AM':'NO', 'PA':'NO', 'RO':'NO', 'RR':'NO', 'TO':'NO',\\\n",
    "              'MA':'NE', 'PI':'NE', 'CE':'NE', 'RN':'NE', 'PB':'NE', 'PE':'NE', \\\n",
    "             'AL':'NE', 'SE':'NE', 'BA':'NE', 'MT':'CO', 'MS':'CO', 'GO':'CO',\\\n",
    "             'DF':'CO', 'RJ':'SD', 'MG':'SD', 'SP':'SD', 'ES':'SD', 'SC':'SU', 'PR':'SU', 'RS':'SU'}\n",
    "\n",
    "for coluna in valores_a_trocar:\n",
    "    dados_treino[coluna] = dados_treino[coluna].map(dicionario, na_action='NC')\n",
    "    dados_teste[coluna] = dados_teste[coluna].map(dicionario, na_action='NC')\n",
    "    \n",
    "dados_treino = pd.get_dummies(dados_treino, columns=valores_a_trocar)\n",
    "dados_teste = pd.get_dummies(dados_teste, columns=valores_a_trocar)"
   ]
  },
  {
   "cell_type": "markdown",
   "id": "a6ae1e4b",
   "metadata": {},
   "source": [
    "Após as tratativas nas últimas 4 células, finalmente tem-se dados com todas as linhas preenchidas. Ao longo das tratativas alguns dados foram transformados e/ou removidos, alterando de alguma forma na precisão do modelo.\n",
    "\n",
    "Agora, com todos os dados transformados pode-se substituir os valores faltantes por alguma métrica."
   ]
  },
  {
   "cell_type": "markdown",
   "id": "3721f41b",
   "metadata": {},
   "source": [
    "## Substituindo os dados faltantes"
   ]
  },
  {
   "cell_type": "markdown",
   "id": "675d32cf",
   "metadata": {},
   "source": [
    "A fim de simplificar as operações, substitui-se os dados faltantes das colunas não quantitativas pela mediana e os das colunas quantitativas pela média."
   ]
  },
  {
   "cell_type": "code",
   "execution_count": 10,
   "id": "43fc7f59",
   "metadata": {},
   "outputs": [],
   "source": [
    "# Substitui os dados NaN pela mediana ou média da coluna\n",
    "\n",
    "colunas_quantitativas = ['idade', 'meses_na_residencia']\n",
    "# as variáveis de renda não entram nessa lista pois a média colocaria um viés na realidade do universo das amostras\n",
    "\n",
    "for coluna in dados_treino.columns:\n",
    "    if coluna == 'inadimplente':\n",
    "        continue\n",
    "    elif coluna in colunas_quantitativas:\n",
    "        dados_teste[[coluna]] = dados_teste[[coluna]].fillna(dados_teste.mean())\n",
    "        dados_treino[[coluna]] = dados_treino[[coluna]].fillna(dados_treino.mean())\n",
    "    else:\n",
    "        dados_teste[[coluna]] = dados_teste[[coluna]].fillna(dados_teste.median())\n",
    "        dados_treino[[coluna]] = dados_treino[[coluna]].fillna(dados_treino.median())"
   ]
  },
  {
   "cell_type": "markdown",
   "id": "a3ee5821",
   "metadata": {},
   "source": [
    "# Criando os modelos classificadores"
   ]
  },
  {
   "cell_type": "markdown",
   "id": "cbcba3bb",
   "metadata": {},
   "source": [
    "Neste ponto os dados estão todos em valor numérico com todas as colunas preenchidas. Pode-se, portanto, prosseguir para a criação do modelo preditivo."
   ]
  },
  {
   "cell_type": "markdown",
   "id": "cea2ae1c",
   "metadata": {},
   "source": [
    "## Separação dos dados"
   ]
  },
  {
   "cell_type": "code",
   "execution_count": 11,
   "id": "7139d600",
   "metadata": {},
   "outputs": [],
   "source": [
    "#separacao do conjunto de treino em alvo e features e em subconjunto de teste e treino\n",
    "dados_treino = dados_treino.sample(frac=1)\n",
    "\n",
    "X = dados_treino.drop(columns=['inadimplente'])\n",
    "Y = dados_treino['inadimplente']\n",
    "\n",
    "teste_sample = 0.8"
   ]
  },
  {
   "cell_type": "markdown",
   "id": "2b267381",
   "metadata": {},
   "source": [
    "## Scaling dos dados"
   ]
  },
  {
   "cell_type": "code",
   "execution_count": 14,
   "id": "484a397e",
   "metadata": {},
   "outputs": [],
   "source": [
    "\n",
    "standard_scaler = MinMaxScaler() # StandardScaler\n",
    "standard_scaler = standard_scaler.fit(X)\n",
    "X = standard_scaler.transform(X)"
   ]
  },
  {
   "cell_type": "markdown",
   "id": "33bd8065",
   "metadata": {},
   "source": [
    "## Criando KNN"
   ]
  },
  {
   "cell_type": "markdown",
   "id": "def75107",
   "metadata": {},
   "source": [
    "### Escolha das variáveis pro KNN"
   ]
  },
  {
   "cell_type": "code",
   "execution_count": 19,
   "id": "a27afe74",
   "metadata": {},
   "outputs": [
    {
     "data": {
      "text/plain": [
       "array([[0.        , 0.375     , 0.57575758, ..., 0.        , 0.        ,\n",
       "        0.        ],\n",
       "       [0.        , 1.        , 0.27272727, ..., 0.        , 0.        ,\n",
       "        0.        ],\n",
       "       [0.16666667, 0.375     , 0.32323232, ..., 0.        , 1.        ,\n",
       "        0.        ],\n",
       "       ...,\n",
       "       [0.        , 0.375     , 0.64646465, ..., 1.        , 0.        ,\n",
       "        0.        ],\n",
       "       [0.        , 0.375     , 0.2020202 , ..., 0.        , 0.        ,\n",
       "        0.        ],\n",
       "       [0.        , 0.375     , 0.29292929, ..., 1.        , 1.        ,\n",
       "        0.        ]])"
      ]
     },
     "execution_count": 19,
     "metadata": {},
     "output_type": "execute_result"
    }
   ],
   "source": [
    "X = SelectKBest(k=15).fit_transform(X, Y)\n",
    "X"
   ]
  },
  {
   "cell_type": "markdown",
   "id": "56d4a459",
   "metadata": {},
   "source": [
    "### Ajuste dos hiperparâmetros"
   ]
  },
  {
   "cell_type": "code",
   "execution_count": null,
   "id": "d21f7790",
   "metadata": {},
   "outputs": [],
   "source": [
    "# Decisão com SVM, RF e KNN 1 contra todos\n",
    "#for numero_kneighbors in range(100, 2000, 100):\n",
    "classificadorKNN = KNeighborsClassifier(n_neighbors=200, weights='uniform')\n",
    "scores = cross_val_score(classificadorKNN, X, Y, cv=5)\n",
    "print(\"%d    \" %numero_kneighbors, end='')\n",
    "print(\"%.4f\" %mean(scores))"
   ]
  },
  {
   "cell_type": "markdown",
   "id": "5b513844",
   "metadata": {},
   "source": [
    "## Criando SVM com Kernel"
   ]
  },
  {
   "cell_type": "markdown",
   "id": "16e37bd9",
   "metadata": {},
   "source": [
    "## Criando RF"
   ]
  },
  {
   "cell_type": "code",
   "execution_count": null,
   "id": "6c260cfa",
   "metadata": {},
   "outputs": [],
   "source": [
    "# Faz o Scaling das colunas\n",
    "# idade, dia_vencimento, qtde_dependentes, meses_na_residencia, renda_mensal_regular, renda_extra, valor_patrimonio_pessoal, local_onde_reside, local_onde_trabalha\n",
    "\n",
    "standard_scaler = MinMaxScaler()\n",
    "standard_scaler = standard_scaler.fit(x_treino)\n",
    "x_treino = standard_scaler.transform(x_treino)\n",
    "\n"
   ]
  },
  {
   "cell_type": "code",
   "execution_count": null,
   "id": "0522b4de",
   "metadata": {},
   "outputs": [],
   "source": [
    "classificador = KNeighborsClassifier(n_neighbors=1850, weights='uniform')\n",
    "feature_selector = RFE(classificador, step=1)\n",
    "classificadorKNN = feature_selector.fit(x_treino, y_treino)"
   ]
  },
  {
   "cell_type": "markdown",
   "id": "b540a5f7",
   "metadata": {},
   "source": [
    "# Avaliação do modelo"
   ]
  },
  {
   "cell_type": "markdown",
   "id": "b079c42d",
   "metadata": {},
   "source": [
    "# Geração do arquivo de respostas"
   ]
  },
  {
   "cell_type": "code",
   "execution_count": null,
   "id": "5ba15a4a",
   "metadata": {},
   "outputs": [],
   "source": []
  }
 ],
 "metadata": {
  "kernelspec": {
   "display_name": "Python 3 (ipykernel)",
   "language": "python",
   "name": "python3"
  },
  "language_info": {
   "codemirror_mode": {
    "name": "ipython",
    "version": 3
   },
   "file_extension": ".py",
   "mimetype": "text/x-python",
   "name": "python",
   "nbconvert_exporter": "python",
   "pygments_lexer": "ipython3",
   "version": "3.10.4"
  }
 },
 "nbformat": 4,
 "nbformat_minor": 5
}
